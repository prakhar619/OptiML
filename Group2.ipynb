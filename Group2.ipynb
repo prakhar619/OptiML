{
 "cells": [
  {
   "cell_type": "code",
   "execution_count": 1164,
   "metadata": {},
   "outputs": [],
   "source": [
    "import numpy as np"
   ]
  },
  {
   "cell_type": "code",
   "execution_count": 1165,
   "metadata": {},
   "outputs": [],
   "source": [
    "class ANN:\n",
    "    w_l_ij= None\n",
    "    b_l_j = None\n",
    "    a_l_ij = None\n",
    "    delta_l_ij = None\n",
    "    input_featureCount = None\n",
    "    input_count = None\n",
    "    layer_info = None\n",
    "    dl_dw = None\n",
    "    def __init__(self,xShape,rseed = 10,listLayer= None):\n",
    "        np.random.seed(rseed)\n",
    "        inputCount,inputDim = xShape\n",
    "        self.input_featureCount = inputDim\n",
    "        self.input_count = inputCount\n",
    "        self.layer_info = [['None',inputDim]]\n",
    "        self.w_l_ij = ['None']\n",
    "        self.b_l_j = ['None']\n",
    "        self.optimizer = None\n",
    "\n",
    "    def compile(self,optimizer,lossFunction):\n",
    "        self.optimizer = optimizer\n",
    "        self.layer_info.append(['Loss',lossFunction])\n",
    "\n",
    "    def __str__(self):\n",
    "        return\n",
    "\n",
    "    def addLayers_Dense(self,neuronCount,activationFunction):\n",
    "        if(len(self.layer_info) == 1) :\n",
    "            self.layer_info.append(['Dense',activationFunction,neuronCount])\n",
    "            w = np.random.rand(self.input_featureCount,neuronCount)\n",
    "            b = np.random.rand(1,neuronCount)\n",
    "            self.w_l_ij.append(w)\n",
    "            self.b_l_j.append(b)\n",
    "        else:\n",
    "            self.layer_info.append(['Dense',activationFunction,neuronCount])\n",
    "            w = np.random.rand(self.layer_info[-2][2],neuronCount)\n",
    "            b = np.random.rand(1,neuronCount)\n",
    "            self.w_l_ij.append(w)\n",
    "            self.b_l_j.append(b)\n",
    "\n",
    "    def forward_layer_dense(self,layerNo):\n",
    "        if layerNo < 1:\n",
    "            print(\"ERRRROR\")\n",
    "        output = self.layer_info[layerNo][1](self.a_l_ij[layerNo-1] @ self.w_l_ij[layerNo] + self.b_l_j[layerNo]) \n",
    "        self.a_l_ij.append(output)\n",
    "\n",
    "    def forward_layer_loss(self,layerNo,y):\n",
    "        y_hat  =  self.a_l_ij[-1]\n",
    "        lossFunction = self.layer_info[layerNo][1]\n",
    "        return lossFunction(y_hat,y)\n",
    "\n",
    "    def forwardProp(self,x,y):\n",
    "        self.a_l_ij = []\n",
    "        self.a_l_ij.append(x)\n",
    "        for layerNo in range(len(self.layer_info)):\n",
    "            if self.layer_info[layerNo][0] == 'Dense':\n",
    "                self.forward_layer_dense(layerNo)\n",
    "            if self.layer_info[layerNo][0] == 'Loss':\n",
    "                cost = self.forward_layer_loss(layerNo,y)\n",
    "                return cost\n",
    "            \n",
    "    def backwardProp(self,y):\n",
    "        self.dl_dw = []\n",
    "        lastIndex = len(self.layer_info) - 2\n",
    "        self.delta_l_ij = [i for i in range(0,lastIndex+1)]\n",
    "        self.delta_l_ij[lastIndex] = (2 * (self.a_l_ij[lastIndex] - y).T * self.diff_activation_linear(self.a_l_ij[lastIndex]))\n",
    "        for layerNo in range(lastIndex,0,-1):\n",
    "            self.dl_dw.append(self.a_l_ij[layerNo-1].T @ self.delta_l_ij[layerNo])\n",
    "            self.delta_l_ij[layerNo-1] = (self.w_l_ij[layerNo] @self.delta_l_ij[layerNo].T).T * self.diff_activation_linear(self.a_l_ij[layerNo-1])\n",
    "        self.dl_dw.append(['None'])\n",
    "        self.dl_dw.reverse()\n",
    "\n",
    "    def fit(self,x,y):\n",
    "        #Hyperparameters if required: \n",
    "        epoch = 100\n",
    "        eta = 1e-7\n",
    "        self.optimizer(self,x,y,eta,epoch)\n",
    "\n",
    "    @staticmethod    \n",
    "    def optimizer_gradientDescent(Obj,x,y,eta,epoch):\n",
    "        for i in  range(epoch):\n",
    "            errorSum = 0\n",
    "            print(\"Epoch:\",i,end=\"\\t\")\n",
    "            for j in range(y.shape[1]):\n",
    "                #x and y both are 2d matrix\n",
    "                x_1xd = x[j:j+1]\n",
    "                y_1xk = y[j:j+1]\n",
    "                errorSum += Obj.forwardProp(x_1xd,y_1xk)\n",
    "                Obj.backwardProp(y_1xk)\n",
    "                for index in range(1,len(Obj.w_l_ij)):\n",
    "                    Obj.w_l_ij[index] = Obj.w_l_ij[index] - (eta * Obj.dl_dw[index])\n",
    "                    Obj.b_l_j[index] = Obj.b_l_j[index] - (eta * Obj.delta_l_ij[index])\n",
    "            print(\"Error:\",errorSum)\n",
    "\n",
    "    @staticmethod\n",
    "    def loss_MSE(P,y):\n",
    "        return np.sum((P - y)**2)   \n",
    "      \n",
    "    @staticmethod\n",
    "    def activation_linear(z):\n",
    "        return z\n",
    "\n",
    "    def diff_activation_linear(self,x):\n",
    "        return np.ones(x.shape)\n",
    "    \n",
    "    @staticmethod\n",
    "    def activation_sigmoid(z):    \n",
    "        return 1 / (1 + np.exp(-z))\n",
    "    \n",
    "    @staticmethod\n",
    "    def activation_tanh(z):\n",
    "        pass\n",
    "\n",
    "    @staticmethod\n",
    "    def activation_relu(z):\n",
    "        pass\n",
    "\n",
    "    @staticmethod\n",
    "    def activation_softmax(z):\n",
    "        pass\n",
    "\n",
    "\n",
    "\n",
    "    \n"
   ]
  },
  {
   "cell_type": "code",
   "execution_count": 1166,
   "metadata": {},
   "outputs": [],
   "source": [
    "import pandas as pd\n",
    "import numpy as np\n",
    "import sklearn.datasets as sk"
   ]
  },
  {
   "cell_type": "code",
   "execution_count": 1167,
   "metadata": {},
   "outputs": [
    {
     "data": {
      "text/plain": [
       "(1, 8)"
      ]
     },
     "execution_count": 1167,
     "metadata": {},
     "output_type": "execute_result"
    }
   ],
   "source": [
    "dictt = sk.fetch_california_housing()\n",
    "x = dictt.data\n",
    "y = np.array([dictt.target])\n",
    "y = y.T\n",
    "x[0:1].shape"
   ]
  },
  {
   "cell_type": "code",
   "execution_count": 1168,
   "metadata": {},
   "outputs": [],
   "source": [
    "model = ANN(x.shape,20)"
   ]
  },
  {
   "cell_type": "code",
   "execution_count": 1169,
   "metadata": {},
   "outputs": [],
   "source": [
    "model.addLayers_Dense(3,ANN.activation_linear)\n",
    "model.addLayers_Dense(4,ANN.activation_linear)\n",
    "model.addLayers_Dense(1,ANN.activation_linear)"
   ]
  },
  {
   "cell_type": "code",
   "execution_count": 1170,
   "metadata": {},
   "outputs": [],
   "source": [
    "model.compile(ANN.optimizer_gradientDescent,ANN.loss_MSE)"
   ]
  },
  {
   "cell_type": "code",
   "execution_count": 1171,
   "metadata": {},
   "outputs": [
    {
     "data": {
      "text/plain": [
       "[['None', 8],\n",
       " ['Dense', <function __main__.ANN.activation_linear(z)>, 3],\n",
       " ['Dense', <function __main__.ANN.activation_linear(z)>, 4],\n",
       " ['Dense', <function __main__.ANN.activation_linear(z)>, 1],\n",
       " ['Loss', <function __main__.ANN.loss_MSE(P, y)>]]"
      ]
     },
     "execution_count": 1171,
     "metadata": {},
     "output_type": "execute_result"
    }
   ],
   "source": [
    "model.layer_info"
   ]
  },
  {
   "cell_type": "code",
   "execution_count": 1172,
   "metadata": {},
   "outputs": [],
   "source": [
    "model.delta_l_ij"
   ]
  },
  {
   "cell_type": "code",
   "execution_count": 1173,
   "metadata": {},
   "outputs": [
    {
     "data": {
      "text/plain": [
       "['None',\n",
       " array([[0.77025193, 0.49238104, 0.63125307]]),\n",
       " array([[0.31051155, 0.62685344, 0.55744981, 0.31857956]]),\n",
       " array([[0.59813382]])]"
      ]
     },
     "execution_count": 1173,
     "metadata": {},
     "output_type": "execute_result"
    }
   ],
   "source": [
    "model.b_l_j"
   ]
  },
  {
   "cell_type": "code",
   "execution_count": 1174,
   "metadata": {},
   "outputs": [],
   "source": [
    "model.dl_dw"
   ]
  },
  {
   "cell_type": "code",
   "execution_count": 1175,
   "metadata": {},
   "outputs": [],
   "source": [
    "model.a_l_ij"
   ]
  },
  {
   "cell_type": "code",
   "execution_count": 1176,
   "metadata": {},
   "outputs": [],
   "source": [
    "import copy\n",
    "w_old = copy.deepcopy(model.w_l_ij)"
   ]
  },
  {
   "cell_type": "code",
   "execution_count": 1177,
   "metadata": {},
   "outputs": [
    {
     "name": "stdout",
     "output_type": "stream",
     "text": [
      "Epoch: 0\tError: 206715.4986939546\n",
      "Epoch: 1\tError: 151012.47285261957\n",
      "Epoch: 2\tError: 115067.68124891495\n",
      "Epoch: 3\tError: 90295.46451928669\n",
      "Epoch: 4\tError: 72405.67441240819\n",
      "Epoch: 5\tError: 59026.448655801294\n",
      "Epoch: 6\tError: 48745.93879763876\n",
      "Epoch: 7\tError: 40674.72858684923\n",
      "Epoch: 8\tError: 34226.690173462\n",
      "Epoch: 9\tError: 29001.088413045025\n",
      "Epoch: 10\tError: 24715.408115443628\n",
      "Epoch: 11\tError: 21165.233038541606\n",
      "Epoch: 12\tError: 18199.31619207668\n",
      "Epoch: 13\tError: 15703.559157746302\n",
      "Epoch: 14\tError: 13590.413156565226\n",
      "Epoch: 15\tError: 11791.686894450842\n",
      "Epoch: 16\tError: 10253.555756973336\n",
      "Epoch: 17\tError: 8933.02894593063\n",
      "Epoch: 18\tError: 7795.403600026705\n",
      "Epoch: 19\tError: 6812.400320539465\n",
      "Epoch: 20\tError: 5960.777533553459\n",
      "Epoch: 21\tError: 5221.2877874210135\n",
      "Epoch: 22\tError: 4577.881830266371\n",
      "Epoch: 23\tError: 4017.094671113685\n",
      "Epoch: 24\tError: 3527.566970206857\n",
      "Epoch: 25\tError: 3099.668230812958\n",
      "Epoch: 26\tError: 2725.197398205843\n",
      "Epoch: 27\tError: 2397.142912022143\n",
      "Epoch: 28\tError: 2109.4888562529663\n",
      "Epoch: 29\tError: 1857.0571716969562\n",
      "Epoch: 30\tError: 1635.3783194079335\n",
      "Epoch: 31\tError: 1440.5845704656156\n",
      "Epoch: 32\tError: 1269.321427006345\n",
      "Epoch: 33\tError: 1118.673677583476\n",
      "Epoch: 34\tError: 986.1033454699417\n",
      "Epoch: 35\tError: 869.3973649545388\n",
      "Epoch: 36\tError: 766.6232637942626\n",
      "Epoch: 37\tError: 676.0914730676152\n",
      "Epoch: 38\tError: 596.3231531548695\n",
      "Epoch: 39\tError: 526.0226345097132\n",
      "Epoch: 40\tError: 464.053737732654\n",
      "Epoch: 41\tError: 409.4193692973794\n",
      "Epoch: 42\tError: 361.24389473295753\n",
      "Epoch: 43\tError: 318.7578759135218\n",
      "Epoch: 44\tError: 281.2848277754205\n",
      "Epoch: 45\tError: 248.2297056699191\n",
      "Epoch: 46\tError: 219.06888029592358\n",
      "Epoch: 47\tError: 193.34139478491772\n",
      "Epoch: 48\tError: 170.64132962611401\n",
      "Epoch: 49\tError: 150.61112697770162\n",
      "Epoch: 50\tError: 132.93574750022236\n",
      "Epoch: 51\tError: 117.33755095629633\n",
      "Epoch: 52\tError: 103.57180707367705\n",
      "Epoch: 53\tError: 91.42275606824775\n",
      "Epoch: 54\tError: 80.70014917464067\n",
      "Epoch: 55\tError: 71.23620886203297\n",
      "Epoch: 56\tError: 62.882956387805706\n",
      "Epoch: 57\tError: 55.50986117975873\n",
      "Epoch: 58\tError: 49.00177241728981\n",
      "Epoch: 59\tError: 43.25709825086401\n",
      "Epoch: 60\tError: 38.18620247949442\n",
      "Epoch: 61\tError: 33.709992299608686\n",
      "Epoch: 62\tError: 29.758674030772212\n",
      "Epoch: 63\tError: 26.270656585675788\n",
      "Epoch: 64\tError: 23.191584943915867\n",
      "Epoch: 65\tError: 20.473488062338184\n",
      "Epoch: 66\tError: 18.074027552439127\n",
      "Epoch: 67\tError: 15.95583511439842\n",
      "Epoch: 68\tError: 14.085928169353245\n",
      "Epoch: 69\tError: 12.435194403539464\n",
      "Epoch: 70\tError: 10.977937053225071\n",
      "Epoch: 71\tError: 9.691473737988753\n",
      "Epoch: 72\tError: 8.55578250918228\n",
      "Epoch: 73\tError: 7.553189535386121\n",
      "Epoch: 74\tError: 6.668093510343339\n",
      "Epoch: 75\tError: 5.886722452548726\n",
      "Epoch: 76\tError: 5.196919079252995\n",
      "Epoch: 77\tError: 4.587951389695992\n",
      "Epoch: 78\tError: 4.050345490424301\n",
      "Epoch: 79\tError: 3.575738046131093\n",
      "Epoch: 80\tError: 3.156746048316363\n",
      "Epoch: 81\tError: 2.7868518662460047\n",
      "Epoch: 82\tError: 2.460301784579318\n",
      "Epoch: 83\tError: 2.172016443519309\n",
      "Epoch: 84\tError: 1.9175117838048383\n",
      "Epoch: 85\tError: 1.6928292632919615\n",
      "Epoch: 86\tError: 1.494474256898296\n",
      "Epoch: 87\tError: 1.319361679592074\n",
      "Epoch: 88\tError: 1.164767984950923\n",
      "Epoch: 89\tError: 1.0282887913602285\n",
      "Epoch: 90\tError: 0.9078014757535526\n",
      "Epoch: 91\tError: 0.8014321522912025\n",
      "Epoch: 92\tError: 0.7075265217578285\n",
      "Epoch: 93\tError: 0.624624137805255\n",
      "Epoch: 94\tError: 0.5514356894190667\n",
      "Epoch: 95\tError: 0.48682294598659004\n",
      "Epoch: 96\tError: 0.42978105282347695\n",
      "Epoch: 97\tError: 0.37942290162450404\n",
      "Epoch: 98\tError: 0.33496533261683686\n",
      "Epoch: 99\tError: 0.2957169537139163\n"
     ]
    }
   ],
   "source": [
    "model.fit(x,y)"
   ]
  },
  {
   "cell_type": "code",
   "execution_count": 1178,
   "metadata": {},
   "outputs": [],
   "source": [
    "w_new = model.w_l_ij"
   ]
  },
  {
   "cell_type": "code",
   "execution_count": 1179,
   "metadata": {},
   "outputs": [
    {
     "data": {
      "text/plain": [
       "(['None',\n",
       "  array([[0.5881308 , 0.89771373, 0.89153073],\n",
       "         [0.81583748, 0.03588959, 0.69175758],\n",
       "         [0.37868094, 0.51851095, 0.65795147],\n",
       "         [0.19385022, 0.2723164 , 0.71860593],\n",
       "         [0.78300361, 0.85032764, 0.77524489],\n",
       "         [0.03666431, 0.11669374, 0.7512807 ],\n",
       "         [0.23921822, 0.25480601, 0.85762553],\n",
       "         [0.94977903, 0.56168686, 0.17878052]]),\n",
       "  array([[0.83949792, 0.4610394 , 0.49794007, 0.67941112],\n",
       "         [0.65078591, 0.26879524, 0.06732467, 0.77144514],\n",
       "         [0.48098413, 0.32920641, 0.51064106, 0.26362883]]),\n",
       "  array([[0.39484322],\n",
       "         [0.25797459],\n",
       "         [0.58224112],\n",
       "         [0.16162871]])],\n",
       " ['None',\n",
       "  array([[0.58434739, 0.89632925, 0.88857854],\n",
       "         [0.7972049 , 0.02907131, 0.67721864],\n",
       "         [0.37550698, 0.51734949, 0.65547484],\n",
       "         [0.19338494, 0.27214614, 0.71824288],\n",
       "         [0.63666975, 0.79677923, 0.66106099],\n",
       "         [0.03550293, 0.11626875, 0.75037448],\n",
       "         [0.22200354, 0.24850659, 0.84419296],\n",
       "         [1.00532681, 0.58201364, 0.22212431]]),\n",
       "  array([[ 0.80647472,  0.43628012,  0.42206445,  0.6793414 ],\n",
       "         [ 0.6069256 ,  0.2354658 , -0.03724822,  0.77323289],\n",
       "         [ 0.42294216,  0.28522686,  0.37333516,  0.26546002]]),\n",
       "  array([[ 0.0015521 ],\n",
       "         [ 0.04534838],\n",
       "         [ 0.37999962],\n",
       "         [-0.18658478]])])"
      ]
     },
     "execution_count": 1179,
     "metadata": {},
     "output_type": "execute_result"
    }
   ],
   "source": [
    "w_old,w_new"
   ]
  },
  {
   "cell_type": "code",
   "execution_count": null,
   "metadata": {},
   "outputs": [],
   "source": []
  }
 ],
 "metadata": {
  "kernelspec": {
   "display_name": "ML_331",
   "language": "python",
   "name": "python3"
  },
  "language_info": {
   "codemirror_mode": {
    "name": "ipython",
    "version": 3
   },
   "file_extension": ".py",
   "mimetype": "text/x-python",
   "name": "python",
   "nbconvert_exporter": "python",
   "pygments_lexer": "ipython3",
   "version": "3.12.0"
  }
 },
 "nbformat": 4,
 "nbformat_minor": 2
}
