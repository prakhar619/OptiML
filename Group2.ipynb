{
 "cells": [
  {
   "cell_type": "code",
   "execution_count": 2,
   "metadata": {},
   "outputs": [],
   "source": [
    "import numpy as np"
   ]
  },
  {
   "cell_type": "code",
   "execution_count": null,
   "metadata": {},
   "outputs": [],
   "source": [
    "class ANN:\n",
    "    w_l_ij= None\n",
    "    a_l_ij = None\n",
    "    input_featureCount = None\n",
    "    input_count = None\n",
    "    layer = None\n",
    "    def __init__(self,inputDim,inputCount):\n",
    "        self.input_featureCount = inputDim\n",
    "        self.input_count = inputCount\n",
    "        Layer = np.array([inputDim])\n",
    "        return\n",
    "    def __str__(self):\n",
    "        return\n",
    "    def addLayer(self,neuronCount,activationFunction):\n",
    "        if(self.Layer.shape == (1,)):\n",
    "            Layer = np.append(Layer,[neuronCount],axis = 0)\n",
    "            w = np.random.rand(neuronCount,self.input_featureCount)\n",
    "            w"
   ]
  },
  {
   "cell_type": "markdown",
   "metadata": {},
   "source": [
    "Neural Network Characteristics\n",
    "    No of Layers\n",
    "        No of Neurons\n",
    "        Activation Function\n",
    "        No of input\n",
    "    Loss Function\n",
    "\n",
    "Layer1    n1 neuron  -> weights depend on input features\n",
    "Layer2    n2 neuron  -> n1 weights\n"
   ]
  },
  {
   "cell_type": "code",
   "execution_count": 14,
   "metadata": {},
   "outputs": [],
   "source": [
    "x = np.array([1])\n",
    "x = np.append(x,[2],axis = 0)"
   ]
  },
  {
   "cell_type": "code",
   "execution_count": 12,
   "metadata": {},
   "outputs": [
    {
     "data": {
      "text/plain": [
       "array([1, 2])"
      ]
     },
     "execution_count": 12,
     "metadata": {},
     "output_type": "execute_result"
    }
   ],
   "source": [
    "x"
   ]
  },
  {
   "cell_type": "code",
   "execution_count": null,
   "metadata": {},
   "outputs": [],
   "source": []
  }
 ],
 "metadata": {
  "kernelspec": {
   "display_name": "ML_331",
   "language": "python",
   "name": "python3"
  },
  "language_info": {
   "codemirror_mode": {
    "name": "ipython",
    "version": 3
   },
   "file_extension": ".py",
   "mimetype": "text/x-python",
   "name": "python",
   "nbconvert_exporter": "python",
   "pygments_lexer": "ipython3",
   "version": "3.12.0"
  }
 },
 "nbformat": 4,
 "nbformat_minor": 2
}
