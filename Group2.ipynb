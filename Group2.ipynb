{
 "cells": [
  {
   "cell_type": "code",
   "execution_count": 1339,
   "metadata": {},
   "outputs": [],
   "source": [
    "import numpy as np"
   ]
  },
  {
   "cell_type": "code",
   "execution_count": 1340,
   "metadata": {},
   "outputs": [],
   "source": [
    "class ANN:\n",
    "    w_l_ij= None\n",
    "    b_l_j = None\n",
    "    a_l_ij = None\n",
    "    delta_l_ij = None\n",
    "    input_featureCount = None\n",
    "    input_count = None\n",
    "    layer_info = None\n",
    "    dl_dw = None\n",
    "    diff = {}\n",
    "    def __init__(self,xShape,rseed = 10,listLayer= None):\n",
    "        np.random.seed(rseed)\n",
    "        inputCount,inputDim = xShape\n",
    "        self.input_featureCount = inputDim\n",
    "        self.input_count = inputCount\n",
    "        self.layer_info = [['None','None',self.input_featureCount]]\n",
    "        self.w_l_ij = ['None']\n",
    "        self.b_l_j = ['None']\n",
    "        self.optimizer = None\n",
    "        self.diff[ANN.activation_linear] = ANN.diff_activation_linear\n",
    "        self.diff[ANN.activation_sigmoid] = ANN.diff_activation_sigmoid\n",
    "        self.diff[ANN.activation_tanh] = ANN.diff_activation_tanh\n",
    "\n",
    "    def compile(self,optimizer,lossFunction):\n",
    "        self.optimizer = optimizer\n",
    "        self.layer_info.append(['Loss',lossFunction])\n",
    "\n",
    "    def __str__(self):\n",
    "        return\n",
    "\n",
    "    def addLayers_Dense(self,neuronCount,activationFunction):\n",
    "            self.layer_info.append(['Dense',activationFunction,neuronCount])\n",
    "            w = np.random.rand(self.layer_info[-2][2],neuronCount)\n",
    "            b = np.random.rand(1,neuronCount)\n",
    "            self.w_l_ij.append(w)\n",
    "            self.b_l_j.append(b)\n",
    "\n",
    "    def addLayers_softmax(self):\n",
    "        self.layer_info.append(['Softmax',self.layer_info[-1][2]])\n",
    "\n",
    "\n",
    "    def forward_layer_dense(self,layerNo):\n",
    "        if layerNo < 1:\n",
    "            print(\"ERRRROR\")\n",
    "        output = self.layer_info[layerNo][1](self.a_l_ij[layerNo-1] @ self.w_l_ij[layerNo] + self.b_l_j[layerNo]) \n",
    "        self.a_l_ij.append(output)\n",
    "    \n",
    "    def forward_layer_softmax(self,layerNo):\n",
    "        if layerNo < 1: \n",
    "            print(\"ERRORRR\")\n",
    "        denom = np.sum( np.exp(self.a_l_ij[layerNo-1]) )\n",
    "        output = np.exp(self.a_l_ij[layerNo]) / denom\n",
    "        self.a_l_ij.append(output)\n",
    "\n",
    "    #Create cross entropy loss \n",
    "    def forward_layer_loss(self,layerNo,y):\n",
    "        y_hat  =  self.a_l_ij[-1]\n",
    "        lossFunction = self.layer_info[layerNo][1]\n",
    "        return lossFunction(y_hat,y)\n",
    "\n",
    "    def forwardProp(self,x,y):\n",
    "        self.a_l_ij = []\n",
    "        self.a_l_ij.append(x)\n",
    "        for layerNo in range(len(self.layer_info)):\n",
    "            if self.layer_info[layerNo][0] == 'Dense':\n",
    "                self.forward_layer_dense(layerNo)\n",
    "            if self.layer_info[layerNo][0] == 'Softmax':\n",
    "                self.forward_layer_softmax(layerNo)\n",
    "            if self.layer_info[layerNo][0] == 'Loss':\n",
    "                cost = self.forward_layer_loss(layerNo,y)\n",
    "                return cost\n",
    "            \n",
    "    #Handle softmax backpropogation\n",
    "    def backwardProp(self,y):\n",
    "        self.dl_dw = []\n",
    "        lastIndex = len(self.layer_info) - 2\n",
    "        self.delta_l_ij = [i for i in range(0,lastIndex+1)]\n",
    "        self.delta_l_ij[lastIndex] = (2 * (self.a_l_ij[lastIndex] - y).T * self.diff[self.layer_info[lastIndex][1]](self.a_l_ij[lastIndex]))\n",
    "        self.dl_dw.append(self.a_l_ij[lastIndex-1].T @ self.delta_l_ij[lastIndex])\n",
    "        for layerNo in range(lastIndex-1,0,-1):\n",
    "            self.delta_l_ij[layerNo] = (self.w_l_ij[layerNo+1] @self.delta_l_ij[layerNo+1].T).T * self.diff[self.layer_info[layerNo][1]](self.a_l_ij[layerNo])\n",
    "            self.dl_dw.append(self.a_l_ij[layerNo-1].T @ self.delta_l_ij[layerNo])\n",
    "        self.dl_dw.append(['None'])\n",
    "        self.dl_dw.reverse()\n",
    "\n",
    "    def fit(self,x,y):\n",
    "        #Hyperparameters if required: \n",
    "        epoch = 100\n",
    "        eta = 1e-7\n",
    "        self.optimizer(self,x,y,eta,epoch)\n",
    "\n",
    "    @staticmethod    \n",
    "    def optimizer_gradientDescent(Obj,x,y,eta,epoch):\n",
    "        for i in  range(epoch):\n",
    "            errorSum = 0\n",
    "            print(\"Epoch:\",i,end=\"\\t\")\n",
    "            for j in range(y.shape[1]):\n",
    "                #x and y both are 2d matrix\n",
    "                x_1xd = x[j:j+1]\n",
    "                y_1xk = y[j:j+1]\n",
    "                errorSum += Obj.forwardProp(x_1xd,y_1xk)\n",
    "                Obj.backwardProp(y_1xk)\n",
    "                for index in range(1,len(Obj.w_l_ij)):\n",
    "                    Obj.w_l_ij[index] = Obj.w_l_ij[index] - (eta * Obj.dl_dw[index])\n",
    "                    Obj.b_l_j[index] = Obj.b_l_j[index] - (eta * Obj.delta_l_ij[index])\n",
    "            print(\"Error:\",errorSum)\n",
    "\n",
    "    @staticmethod\n",
    "    def loss_MSE(P,y):\n",
    "        return np.sum((P - y)**2)   \n",
    "      \n",
    "    @staticmethod\n",
    "    def activation_linear(z):\n",
    "        return z\n",
    "    \n",
    "    @staticmethod\n",
    "    def diff_activation_linear(x):\n",
    "        return np.ones(x.shape)\n",
    "    \n",
    "    @staticmethod\n",
    "    def activation_sigmoid(z):    \n",
    "        return 1 / (1 + np.exp(-z))\n",
    "    \n",
    "    @staticmethod    \n",
    "    def diff_activation_sigmoid(a):\n",
    "        return a * (1- a)\n",
    "\n",
    "    @staticmethod\n",
    "    def activation_tanh(z):\n",
    "        sinh = np.exp(z) - np.exp(-z)\n",
    "        cosh = np.exp(z) + np.exp(-z)\n",
    "        return sinh / cosh\n",
    "    \n",
    "    @staticmethod\n",
    "    def diff_activation_tanh(z):\n",
    "        return 1 - (z * z)\n",
    "\n",
    "    @staticmethod\n",
    "    def activation_relu(z):\n",
    "        pass"
   ]
  },
  {
   "cell_type": "code",
   "execution_count": 1341,
   "metadata": {},
   "outputs": [],
   "source": [
    "import pandas as pd\n",
    "import numpy as np\n",
    "import sklearn.datasets as sk"
   ]
  },
  {
   "cell_type": "code",
   "execution_count": 1342,
   "metadata": {},
   "outputs": [
    {
     "data": {
      "text/plain": [
       "(1, 8)"
      ]
     },
     "execution_count": 1342,
     "metadata": {},
     "output_type": "execute_result"
    }
   ],
   "source": [
    "dictt = sk.fetch_california_housing()\n",
    "x = dictt.data\n",
    "y = np.array([dictt.target])\n",
    "y = y.T\n",
    "x[0:1].shape"
   ]
  },
  {
   "cell_type": "code",
   "execution_count": 1343,
   "metadata": {},
   "outputs": [],
   "source": [
    "model = ANN(x.shape,20)"
   ]
  },
  {
   "cell_type": "code",
   "execution_count": 1344,
   "metadata": {},
   "outputs": [],
   "source": [
    "model.addLayers_Dense(4,ANN.activation_linear)\n",
    "model.addLayers_Dense(6,ANN.activation_linear)\n",
    "model.addLayers_Dense(1,ANN.activation_linear)"
   ]
  },
  {
   "cell_type": "code",
   "execution_count": 1345,
   "metadata": {},
   "outputs": [],
   "source": [
    "model.compile(ANN.optimizer_gradientDescent,ANN.loss_MSE)"
   ]
  },
  {
   "cell_type": "code",
   "execution_count": 1346,
   "metadata": {},
   "outputs": [
    {
     "data": {
      "text/plain": [
       "[['None', 'None', 8],\n",
       " ['Dense', <function __main__.ANN.activation_linear(z)>, 4],\n",
       " ['Dense', <function __main__.ANN.activation_linear(z)>, 6],\n",
       " ['Dense', <function __main__.ANN.activation_linear(z)>, 1],\n",
       " ['Loss', <function __main__.ANN.loss_MSE(P, y)>]]"
      ]
     },
     "execution_count": 1346,
     "metadata": {},
     "output_type": "execute_result"
    }
   ],
   "source": [
    "model.layer_info"
   ]
  },
  {
   "cell_type": "code",
   "execution_count": 1347,
   "metadata": {},
   "outputs": [],
   "source": [
    "model.dl_dw"
   ]
  },
  {
   "cell_type": "code",
   "execution_count": 1348,
   "metadata": {},
   "outputs": [],
   "source": [
    "import copy\n",
    "w_old = copy.deepcopy(model.w_l_ij)"
   ]
  },
  {
   "cell_type": "code",
   "execution_count": 1349,
   "metadata": {},
   "outputs": [
    {
     "name": "stdout",
     "output_type": "stream",
     "text": [
      "Epoch: 0\tError: 251709.97881602013\n",
      "Epoch: 1\tError: 125268.39841705753\n",
      "Epoch: 2\tError: 68850.51753695696\n",
      "Epoch: 3\tError: 39733.013342268096\n",
      "Epoch: 4\tError: 23556.165663753443\n",
      "Epoch: 5\tError: 14188.581480619716\n",
      "Epoch: 6\tError: 8629.192623727628\n",
      "Epoch: 7\tError: 5279.915120578846\n",
      "Epoch: 8\tError: 3243.08957501485\n",
      "Epoch: 9\tError: 1996.9995332569224\n",
      "Epoch: 10\tError: 1231.724113551302\n",
      "Epoch: 11\tError: 760.5511326318039\n",
      "Epoch: 12\tError: 469.9690146659486\n",
      "Epoch: 13\tError: 290.55935191546155\n",
      "Epoch: 14\tError: 179.70409894915113\n",
      "Epoch: 15\tError: 111.17139862458333\n",
      "Epoch: 16\tError: 68.78739630046312\n",
      "Epoch: 17\tError: 42.56803713323724\n",
      "Epoch: 18\tError: 26.345227138079196\n",
      "Epoch: 19\tError: 16.30620168480729\n",
      "Epoch: 20\tError: 10.093184182364672\n",
      "Epoch: 21\tError: 6.247729512009778\n",
      "Epoch: 22\tError: 3.8675014698521166\n",
      "Epoch: 23\tError: 2.3941409297045735\n",
      "Epoch: 24\tError: 1.4820996250169503\n",
      "Epoch: 25\tError: 0.9175117697565603\n",
      "Epoch: 26\tError: 0.5680034744225421\n",
      "Epoch: 27\tError: 0.3516367982788072\n",
      "Epoch: 28\tError: 0.2176911369527981\n",
      "Epoch: 29\tError: 0.13476887636148097\n",
      "Epoch: 30\tError: 0.08343348221561557\n",
      "Epoch: 31\tError: 0.05165265192705996\n",
      "Epoch: 32\tError: 0.03197761340885112\n",
      "Epoch: 33\tError: 0.019797045922218124\n",
      "Epoch: 34\tError: 0.012256189144431202\n",
      "Epoch: 35\tError: 0.007587716318982139\n",
      "Epoch: 36\tError: 0.0046975040382435\n",
      "Epoch: 37\tError: 0.002908195438181665\n",
      "Epoch: 38\tError: 0.0018004467906284369\n",
      "Epoch: 39\tError: 0.001114646636106546\n",
      "Epoch: 40\tError: 0.0006900718294639117\n",
      "Epoch: 41\tError: 0.0004272199469223848\n",
      "Epoch: 42\tError: 0.0002644897524326748\n",
      "Epoch: 43\tError: 0.00016374432654551045\n",
      "Epoch: 44\tError: 0.00010137333584966058\n",
      "Epoch: 45\tError: 6.275975877810172e-05\n",
      "Epoch: 46\tError: 3.885427716329175e-05\n",
      "Epoch: 47\tError: 2.4054505525156695e-05\n",
      "Epoch: 48\tError: 1.4892035358084225e-05\n",
      "Epoch: 49\tError: 9.219592018322084e-06\n",
      "Epoch: 50\tError: 5.707808098217142e-06\n",
      "Epoch: 51\tError: 3.533678511344835e-06\n",
      "Epoch: 52\tError: 2.187684638515375e-06\n",
      "Epoch: 53\tError: 1.3543858463828161e-06\n",
      "Epoch: 54\tError: 8.384942751718746e-07\n",
      "Epoch: 55\tError: 5.191080955504851e-07\n",
      "Epoch: 56\tError: 3.213775275659757e-07\n",
      "Epoch: 57\tError: 1.9896340824492585e-07\n",
      "Epoch: 58\tError: 1.2317736814161327e-07\n",
      "Epoch: 59\tError: 7.625856545941694e-08\n",
      "Epoch: 60\tError: 4.72113417446091e-08\n",
      "Epoch: 61\tError: 2.922833364320724e-08\n",
      "Epoch: 62\tError: 1.809513260423806e-08\n",
      "Epoch: 63\tError: 1.1202616904689311e-08\n",
      "Epoch: 64\tError: 6.935490790490007e-09\n",
      "Epoch: 65\tError: 4.293731816333683e-09\n",
      "Epoch: 66\tError: 2.6582304641676265e-09\n",
      "Epoch: 67\tError: 1.6456987794823313e-09\n",
      "Epoch: 68\tError: 1.0188448725866607e-09\n",
      "Epoch: 69\tError: 6.307623742107981e-10\n",
      "Epoch: 70\tError: 3.9050220948355084e-10\n",
      "Epoch: 71\tError: 2.4175819914052677e-10\n",
      "Epoch: 72\tError: 1.4967143698635168e-10\n",
      "Epoch: 73\tError: 9.266092811286828e-11\n",
      "Epoch: 74\tError: 5.736597395948619e-11\n",
      "Epoch: 75\tError: 3.551502220047121e-11\n",
      "Epoch: 76\tError: 2.1987193399356397e-11\n",
      "Epoch: 77\tError: 1.3612175096272644e-11\n",
      "Epoch: 78\tError: 8.427237370548441e-12\n",
      "Epoch: 79\tError: 5.217265387875196e-12\n",
      "Epoch: 80\tError: 3.2299861807816418e-12\n",
      "Epoch: 81\tError: 1.9996700979114786e-12\n",
      "Epoch: 82\tError: 1.2379870907177681e-12\n",
      "Epoch: 83\tError: 7.664323165554296e-13\n",
      "Epoch: 84\tError: 4.744948535192299e-13\n",
      "Epoch: 85\tError: 2.937577298851166e-13\n",
      "Epoch: 86\tError: 1.818641020336008e-13\n",
      "Epoch: 87\tError: 1.1259129505846044e-13\n",
      "Epoch: 88\tError: 6.970472317390479e-14\n",
      "Epoch: 89\tError: 4.3153919840241946e-14\n",
      "Epoch: 90\tError: 2.6716421125409796e-14\n",
      "Epoch: 91\tError: 1.6540005277421747e-14\n",
      "Epoch: 92\tError: 1.0239843266062676e-14\n",
      "Epoch: 93\tError: 6.339444877210229e-15\n",
      "Epoch: 94\tError: 3.924725791567196e-15\n",
      "Epoch: 95\tError: 2.429782764992162e-15\n",
      "Epoch: 96\tError: 1.5042672763260523e-15\n",
      "Epoch: 97\tError: 9.312826022450153e-16\n",
      "Epoch: 98\tError: 5.765531724225221e-16\n",
      "Epoch: 99\tError: 3.5694551813581403e-16\n"
     ]
    }
   ],
   "source": [
    "model.fit(x,y)"
   ]
  },
  {
   "cell_type": "code",
   "execution_count": 1350,
   "metadata": {},
   "outputs": [],
   "source": [
    "w_new = model.w_l_ij"
   ]
  },
  {
   "cell_type": "code",
   "execution_count": 1351,
   "metadata": {},
   "outputs": [
    {
     "data": {
      "text/plain": [
       "[0,\n",
       " array([[4.78801367e-08, 3.17254394e-08, 7.19776715e-08, 5.57076439e-08]]),\n",
       " array([[1.28915904e-08, 9.45604812e-09, 1.98825850e-08, 8.92865054e-10,\n",
       "         2.31556058e-08, 3.35285234e-08]]),\n",
       " array([[3.77860037e-08]])]"
      ]
     },
     "execution_count": 1351,
     "metadata": {},
     "output_type": "execute_result"
    }
   ],
   "source": [
    "model.delta_l_ij"
   ]
  },
  {
   "cell_type": "code",
   "execution_count": 1352,
   "metadata": {},
   "outputs": [
    {
     "data": {
      "text/plain": [
       "[array([[   8.3252    ,   41.        ,    6.98412698,    1.02380952,\n",
       "          322.        ,    2.55555556,   37.88      , -122.23      ]]),\n",
       " array([[-39.81888021, 192.52351321, -50.99432637,  -8.04885399]]),\n",
       " array([[ -5.74808185,  38.41390014, -12.01629666,  73.40193449,\n",
       "         -46.63852523,  32.85372759]]),\n",
       " array([[4.52600002]])]"
      ]
     },
     "execution_count": 1352,
     "metadata": {},
     "output_type": "execute_result"
    }
   ],
   "source": [
    "model.a_l_ij"
   ]
  },
  {
   "cell_type": "code",
   "execution_count": 1353,
   "metadata": {},
   "outputs": [
    {
     "data": {
      "text/plain": [
       "['None',\n",
       " array([[0.26826643, 0.066933  , 0.77065132, 0.48035725]]),\n",
       " array([[0.50111345, 0.03697463, 0.70789835, 0.62040898, 0.77755873,\n",
       "         0.4590402 ]]),\n",
       " array([[0.89083326]])]"
      ]
     },
     "execution_count": 1353,
     "metadata": {},
     "output_type": "execute_result"
    }
   ],
   "source": [
    "model.b_l_j"
   ]
  },
  {
   "cell_type": "code",
   "execution_count": 1354,
   "metadata": {},
   "outputs": [
    {
     "data": {
      "text/plain": [
       "(['None',\n",
       "  array([[0.5881308 , 0.89771373, 0.89153073, 0.81583748],\n",
       "         [0.03588959, 0.69175758, 0.37868094, 0.51851095],\n",
       "         [0.65795147, 0.19385022, 0.2723164 , 0.71860593],\n",
       "         [0.78300361, 0.85032764, 0.77524489, 0.03666431],\n",
       "         [0.11669374, 0.7512807 , 0.23921822, 0.25480601],\n",
       "         [0.85762553, 0.94977903, 0.56168686, 0.17878052],\n",
       "         [0.77025193, 0.49238104, 0.63125307, 0.83949792],\n",
       "         [0.4610394 , 0.49794007, 0.67941112, 0.65078591]]),\n",
       "  array([[0.32920641, 0.51064106, 0.26362883, 0.31051155, 0.62685344,\n",
       "          0.55744981],\n",
       "         [0.31857956, 0.39484322, 0.25797459, 0.58224112, 0.16162871,\n",
       "          0.59813382],\n",
       "         [0.82582358, 0.15639172, 0.73430052, 0.40864343, 0.7786879 ,\n",
       "          0.80397057],\n",
       "         [0.78607144, 0.59228702, 0.6644892 , 0.64656729, 0.42563648,\n",
       "          0.51356833]]),\n",
       "  array([[0.37980555],\n",
       "         [0.2918922 ],\n",
       "         [0.55722886],\n",
       "         [0.0841636 ],\n",
       "         [0.63128167],\n",
       "         [0.94457049]])],\n",
       " ['None',\n",
       "  array([[ 0.5837284 ,  0.89445298,  0.884922  ,  0.81061855],\n",
       "         [ 0.01420859,  0.67569904,  0.34613421,  0.49280873],\n",
       "         [ 0.65425823,  0.19111473,  0.26677224,  0.7142277 ],\n",
       "         [ 0.78246221,  0.84992664,  0.77443217,  0.0360225 ],\n",
       "         [-0.0535814 ,  0.62516243, -0.01639272,  0.05294962],\n",
       "         [ 0.85627414,  0.94877809,  0.5596582 ,  0.17717848],\n",
       "         [ 0.75022081,  0.47754452,  0.60118306,  0.81575159],\n",
       "         [ 0.5256752 ,  0.5458141 ,  0.77644008,  0.72740985]]),\n",
       "  array([[0.32962591, 0.51092532, 0.26434593, 0.31041361, 0.62772513,\n",
       "          0.55865886],\n",
       "         [0.28693386, 0.37088973, 0.21031777, 0.57738174, 0.10699198,\n",
       "          0.51730896],\n",
       "         [0.825183  , 0.15585791, 0.7334614 , 0.40830624, 0.77779878,\n",
       "          0.80253691],\n",
       "         [0.78094642, 0.58837263, 0.65686139, 0.64560878, 0.41694383,\n",
       "          0.50062424]]),\n",
       "  array([[0.34117369],\n",
       "         [0.25025267],\n",
       "         [0.52618915],\n",
       "         [0.02362952],\n",
       "         [0.61280907],\n",
       "         [0.88732653]])])"
      ]
     },
     "execution_count": 1354,
     "metadata": {},
     "output_type": "execute_result"
    }
   ],
   "source": [
    "w_old,w_new"
   ]
  },
  {
   "cell_type": "code",
   "execution_count": null,
   "metadata": {},
   "outputs": [],
   "source": []
  }
 ],
 "metadata": {
  "kernelspec": {
   "display_name": "ML_331",
   "language": "python",
   "name": "python3"
  },
  "language_info": {
   "codemirror_mode": {
    "name": "ipython",
    "version": 3
   },
   "file_extension": ".py",
   "mimetype": "text/x-python",
   "name": "python",
   "nbconvert_exporter": "python",
   "pygments_lexer": "ipython3",
   "version": "3.12.0"
  }
 },
 "nbformat": 4,
 "nbformat_minor": 2
}
