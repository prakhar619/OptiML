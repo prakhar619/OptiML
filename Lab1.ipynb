{
 "cells": [
  {
   "cell_type": "code",
   "execution_count": 3,
   "metadata": {},
   "outputs": [],
   "source": [
    "import numpy as np"
   ]
  },
  {
   "cell_type": "code",
   "execution_count": 23,
   "metadata": {},
   "outputs": [],
   "source": [
    "#Parameters\n",
    "inputDim = 3\n",
    "inputCount = 100\n",
    "alpha = 0.01"
   ]
  },
  {
   "cell_type": "code",
   "execution_count": 24,
   "metadata": {},
   "outputs": [],
   "source": [
    "#x is dataset\n",
    "x = np.random.randint(100,size=(inputCount,inputDim))"
   ]
  },
  {
   "cell_type": "code",
   "execution_count": 25,
   "metadata": {},
   "outputs": [],
   "source": [
    "#w is weight vector\n",
    "w = np.random.randint(100,size=(inputDim))"
   ]
  },
  {
   "cell_type": "code",
   "execution_count": 26,
   "metadata": {},
   "outputs": [],
   "source": [
    "# b is bias\n",
    "b = np.random.randint(100)"
   ]
  },
  {
   "cell_type": "code",
   "execution_count": 27,
   "metadata": {},
   "outputs": [],
   "source": [
    "# y is the label\n",
    "y = np.random.randint(100,size=(inputCount))"
   ]
  },
  {
   "cell_type": "code",
   "execution_count": 28,
   "metadata": {},
   "outputs": [],
   "source": [
    "# adjust b in w itself \n",
    "w_new = np.hstack((w, b))\n",
    "# adjust x with extra [1..1] column for x_n * b = b\n",
    "ones_row =  np.ones(x.shape[0])\n",
    "x_new = np.hstack((x, ones_row.reshape(-1,1)))"
   ]
  },
  {
   "cell_type": "code",
   "execution_count": 29,
   "metadata": {},
   "outputs": [
    {
     "data": {
      "text/plain": [
       "array([ 7796,  5418,  5828,  8617,  4207,  7935,  7478,  8533,  9990,\n",
       "       15503,  6388, 14258, 11654,  8042,  4998, 13923, 12722,  7836,\n",
       "       14348, 13095, 10415, 11093,  6081,  7030, 12200, 13986,  9530,\n",
       "        4904, 10738,  6380,  8592, 13829,  6435,  4741, 10945, 12157,\n",
       "        8892,  8049,  9220,  7268, 13504,  7154, 11432,  8641, 13263,\n",
       "        6014, 12908, 12500,  7587,  3408,  5711,  9353,  5975,  9593,\n",
       "        6840, 11469, 15130,  2739,  6873, 12791, 12591,  7569, 11509,\n",
       "        5253,  9791,  8816,  8632, 12148, 12721, 10869, 12137,  1502,\n",
       "       12685, 10381,  8250,  5606,  3215, 11270,  7233, 15143, 10493,\n",
       "        6432,  8457, 13727,  8992,  5701,  8922,  7612, 15527,  8189,\n",
       "        5170,  5972, 13382, 10441, 12405,  4632, 15064,  9819,  4387,\n",
       "       12478])"
      ]
     },
     "execution_count": 29,
     "metadata": {},
     "output_type": "execute_result"
    }
   ],
   "source": [
    "#Forward Propogation\n",
    "y_hat = x@w\n",
    "y_hat"
   ]
  },
  {
   "cell_type": "code",
   "execution_count": 30,
   "metadata": {},
   "outputs": [],
   "source": [
    "def MSE(w,x = x_new,y = y):\n",
    "    y_hat = x@w\n",
    "    loss = np.sum(np.square(y-y_hat))\n",
    "    return loss"
   ]
  },
  {
   "cell_type": "code",
   "execution_count": 31,
   "metadata": {},
   "outputs": [],
   "source": [
    "def der(f_Rn_R,w):\n",
    "    diagonal_elements = np.random.rand(len(w)) * 1e-5\n",
    "    diagonal_matrix = np.diag(diagonal_elements) + w                            #SQUARE MATRIX\n",
    "    f_x_h = np.apply_along_axis(f_Rn_R, axis=1, arr=diagonal_matrix)            #ROW MATRIX\n",
    "    f_x = np.apply_along_axis(f_Rn_R, axis=1,arr = np.tile(w,(len(w),1)))       #ROW MATRIX\n",
    "    delta_w_L = ( f_x_h - f_x ) / diagonal_elements                             #ROW MATRIX\n",
    "    return delta_w_L"
   ]
  },
  {
   "cell_type": "code",
   "execution_count": 35,
   "metadata": {},
   "outputs": [
    {
     "data": {
      "text/plain": [
       "array([1.06771261e+08, 9.60713166e+07, 9.22860106e+07, 1.86801624e+06])"
      ]
     },
     "execution_count": 35,
     "metadata": {},
     "output_type": "execute_result"
    }
   ],
   "source": [
    "L = MSE\n",
    "delta_w_L = der(L,w_new)\n",
    "delta_w_L"
   ]
  },
  {
   "cell_type": "code",
   "execution_count": 36,
   "metadata": {},
   "outputs": [
    {
     "data": {
      "text/plain": [
       "array([1.0580383e+08, 9.5097948e+07, 9.1414810e+07, 1.8482160e+06])"
      ]
     },
     "execution_count": 36,
     "metadata": {},
     "output_type": "execute_result"
    }
   ],
   "source": [
    "#Second way of gettingg delta_w_L\n",
    "P = y_hat\n",
    "delta_p_L = 2 * (P - y)\n",
    "delta_n_L = delta_p_L@np.identity(delta_p_L.shape[0])\n",
    "delta_w_L_alt = x_new.T@delta_n_L\n",
    "delta_w_L_alt"
   ]
  },
  {
   "cell_type": "code",
   "execution_count": 39,
   "metadata": {},
   "outputs": [
    {
     "data": {
      "text/plain": [
       "array([-2115977.6 , -1901905.96, -1828254.2 ,   -36865.32])"
      ]
     },
     "execution_count": 39,
     "metadata": {},
     "output_type": "execute_result"
    }
   ],
   "source": [
    "#Backward Propagation\n",
    "w_new = w_new - alpha*delta_w_L_alt\n",
    "w_new"
   ]
  },
  {
   "cell_type": "code",
   "execution_count": null,
   "metadata": {},
   "outputs": [],
   "source": []
  }
 ],
 "metadata": {
  "kernelspec": {
   "display_name": "ML_331",
   "language": "python",
   "name": "python3"
  },
  "language_info": {
   "codemirror_mode": {
    "name": "ipython",
    "version": 3
   },
   "file_extension": ".py",
   "mimetype": "text/x-python",
   "name": "python",
   "nbconvert_exporter": "python",
   "pygments_lexer": "ipython3",
   "version": "3.12.0"
  }
 },
 "nbformat": 4,
 "nbformat_minor": 2
}
