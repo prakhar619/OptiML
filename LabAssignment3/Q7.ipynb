{
 "cells": [
  {
   "cell_type": "code",
   "execution_count": null,
   "metadata": {},
   "outputs": [],
   "source": [
    "import numpy as np\n",
    "import math"
   ]
  },
  {
   "cell_type": "code",
   "execution_count": null,
   "metadata": {},
   "outputs": [],
   "source": [
    "# P(Y = 0) = 0.95\n",
    "p0 = 0.95\n",
    "p1 = (1 - p0)\n",
    "# P(X = 0| Y)\n",
    "mean0 = 0\n",
    "mean1 = 1\n",
    "var0 = 1\n",
    "var1 = 1\n",
    "f = lambda mean, var,x : math.exp(-0.5*((x-mean)**2/var))/(2*math.pi*var)**0.5\n",
    "f0 = lambda x : f(mean0,var0,x)\n",
    "f1 = lambda x : f(mean1,var1,x)"
   ]
  },
  {
   "cell_type": "code",
   "execution_count": null,
   "metadata": {},
   "outputs": [],
   "source": [
    "def bayesClassifer_():\n",
    "    #FP P(Y^hat = 1| Y = 0)\n",
    "    FP = "
   ]
  }
 ],
 "metadata": {
  "language_info": {
   "name": "python"
  }
 },
 "nbformat": 4,
 "nbformat_minor": 2
}
