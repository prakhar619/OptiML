{
 "cells": [
  {
   "cell_type": "code",
   "execution_count": 2,
   "metadata": {},
   "outputs": [],
   "source": [
    "import numpy as np"
   ]
  },
  {
   "cell_type": "code",
   "execution_count": 18,
   "metadata": {},
   "outputs": [],
   "source": [
    "def MSE(w,x = x_new,y = y):\n",
    "    y_hat = x@w\n",
    "    loss =  np.square(y-y_hat)\n",
    "    cost = np.sum(loss)\n",
    "    return cost"
   ]
  },
  {
   "cell_type": "code",
   "execution_count": 169,
   "metadata": {},
   "outputs": [],
   "source": [
    "def der(f_Rn_R,w):\n",
    "    diagonal_elements = np.random.rand(len(w)) * 1e-5\n",
    "    diagonal_matrix = np.diag(diagonal_elements) + w                            #SQUARE MATRIX\n",
    "    f_x_h = np.apply_along_axis(f_Rn_R, axis=1, arr=diagonal_matrix)            #ROW MATRIX\n",
    "    f_x = np.apply_along_axis(f_Rn_R, axis=1,arr = np.tile(w,(len(w),1)))       #ROW MATRIX\n",
    "    delta_w_L = ( f_x_h - f_x ) / diagonal_elements                             #ROW MATRIX\n",
    "    return delta_w_L"
   ]
  },
  {
   "cell_type": "code",
   "execution_count": 217,
   "metadata": {},
   "outputs": [],
   "source": [
    "import math as Math\n",
    "def projectile_motion(v1):\n",
    "    o,v0,t,g = v1\n",
    "    f1 = v0*Math.cos(o)*t\n",
    "    f2 = (v0*Math.sin(o)*t)-(1/2)*g*t**2\n",
    "    return np.array([f1,f2])"
   ]
  },
  {
   "cell_type": "code",
   "execution_count": 218,
   "metadata": {},
   "outputs": [],
   "source": [
    "import math as Math\n",
    "def radius_xy(v1):\n",
    "    r,o = v1\n",
    "    x = r*Math.cos(o)\n",
    "    y = r*Math.sin(o)\n",
    "    return np.array([x,y])"
   ]
  },
  {
   "cell_type": "code",
   "execution_count": 219,
   "metadata": {},
   "outputs": [],
   "source": [
    "def T_der(f_Rm_Rn,w):\n",
    "    diagonal_elements = np.random.rand(len(w)) * 1                               #ROW MATRIX\n",
    "    diagonal_matrix = np.diag(diagonal_elements) + w                                #SQUARE MATRIX\n",
    "    f_x_h = np.apply_along_axis(f_Rm_Rn, axis=1, arr=diagonal_matrix)               # M*N MATRIX (  [[f1(w1+h),f2(w1+h)],[f1(w2+h),f2(w2+h)]]  )\n",
    "    f_x = np.apply_along_axis(f_Rm_Rn, axis=1,arr = np.tile(w,(len(w),1)))          # M*N MATRIX (  [[f1(w1),f2(w1)],[f1(w2),f2(w2)]]  )\n",
    "    delta_w_L = ( f_x_h - f_x ) / diagonal_elements[:, np.newaxis]                  # M*N MATRIX (  [[f1(w1+h)-f1(w1)/h1,f2(w1+h)-f2(w1)/h1],   ])\n",
    "    return delta_w_L.T"
   ]
  },
  {
   "cell_type": "code",
   "execution_count": 222,
   "metadata": {},
   "outputs": [
    {
     "data": {
      "text/plain": [
       "array([[ 3210497.348045  , 16651123.38945163,  6250891.88423455,\n",
       "         4482320.39504929],\n",
       "       [  517101.8109526 ,  2681929.03642292,  1006805.85061841,\n",
       "          721949.20047549],\n",
       "       [ 1750034.57019715,  9076488.28363095,  3407346.49684001,\n",
       "         2443302.32847339],\n",
       "       [   37287.26330087,   193388.98456209,    72598.92355763,\n",
       "           52058.43290007]])"
      ]
     },
     "execution_count": 222,
     "metadata": {},
     "output_type": "execute_result"
    }
   ],
   "source": [
    "L = projectile_motion\n",
    "w = np.array([2,1.0472,3,4])\n",
    "T_der(L,w)"
   ]
  }
 ],
 "metadata": {
  "kernelspec": {
   "display_name": "ML_331",
   "language": "python",
   "name": "python3"
  },
  "language_info": {
   "codemirror_mode": {
    "name": "ipython",
    "version": 3
   },
   "file_extension": ".py",
   "mimetype": "text/x-python",
   "name": "python",
   "nbconvert_exporter": "python",
   "pygments_lexer": "ipython3",
   "version": "3.12.0"
  }
 },
 "nbformat": 4,
 "nbformat_minor": 2
}
