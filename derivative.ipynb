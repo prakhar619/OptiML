{
 "cells": [
  {
   "cell_type": "code",
   "execution_count": 67,
   "metadata": {},
   "outputs": [],
   "source": [
    "import numpy as np"
   ]
  },
  {
   "cell_type": "code",
   "execution_count": 68,
   "metadata": {},
   "outputs": [],
   "source": [
    "#Parameters\n",
    "inputDim = 3\n",
    "inputCount = 100"
   ]
  },
  {
   "cell_type": "code",
   "execution_count": 79,
   "metadata": {},
   "outputs": [],
   "source": [
    "#x is dataset\n",
    "x = np.random.randint(100,size=(inputCount,inputDim))"
   ]
  },
  {
   "cell_type": "code",
   "execution_count": 80,
   "metadata": {},
   "outputs": [],
   "source": [
    "#w is weight vector\n",
    "w = np.random.randint(100,size=(inputDim))"
   ]
  },
  {
   "cell_type": "code",
   "execution_count": 110,
   "metadata": {},
   "outputs": [
    {
     "data": {
      "text/plain": [
       "array([75])"
      ]
     },
     "execution_count": 110,
     "metadata": {},
     "output_type": "execute_result"
    }
   ],
   "source": [
    "# b is bias\n",
    "b = np.random.randint(100,size=1)"
   ]
  },
  {
   "cell_type": "code",
   "execution_count": 112,
   "metadata": {},
   "outputs": [],
   "source": [
    "y_hat = x@w + b"
   ]
  },
  {
   "cell_type": "code",
   "execution_count": 113,
   "metadata": {},
   "outputs": [],
   "source": [
    "# y is the label\n",
    "y = np.random.randint(100,size=(inputCount))"
   ]
  },
  {
   "cell_type": "code",
   "execution_count": 120,
   "metadata": {},
   "outputs": [
    {
     "name": "stdout",
     "output_type": "stream",
     "text": [
      "[ 9 51 45 75]\n",
      "[[28.  0. 24.  1.]\n",
      " [40. 69. 55.  1.]\n",
      " [98. 87. 77.  1.]\n",
      " [92. 84.  1.  1.]\n",
      " [87. 52.  0.  1.]\n",
      " [ 3. 57. 12.  1.]\n",
      " [21. 24.  3.  1.]\n",
      " [ 9. 56. 65.  1.]\n",
      " [11. 25. 32.  1.]\n",
      " [51. 63. 38.  1.]\n",
      " [17. 10. 64.  1.]\n",
      " [44. 26. 10.  1.]\n",
      " [49. 40. 98.  1.]\n",
      " [41. 69. 81.  1.]\n",
      " [61. 72.  2.  1.]\n",
      " [95.  6. 47.  1.]\n",
      " [24.  5. 64.  1.]\n",
      " [22.  4. 75.  1.]\n",
      " [69. 11. 93.  1.]\n",
      " [ 6. 39.  0.  1.]\n",
      " [70. 35. 74.  1.]\n",
      " [67. 98. 82.  1.]\n",
      " [42. 78. 98.  1.]\n",
      " [58. 35. 44.  1.]\n",
      " [ 8. 96.  2.  1.]\n",
      " [87. 21. 92.  1.]\n",
      " [58. 39. 28.  1.]\n",
      " [48. 34. 62.  1.]\n",
      " [19. 11. 27.  1.]\n",
      " [72.  9. 64.  1.]\n",
      " [21. 41. 87.  1.]\n",
      " [87.  9. 82.  1.]\n",
      " [35. 31. 99.  1.]\n",
      " [36. 66. 70.  1.]\n",
      " [75. 39. 63.  1.]\n",
      " [67. 84. 66.  1.]\n",
      " [49. 90. 90.  1.]\n",
      " [49. 63. 53.  1.]\n",
      " [80. 75. 61.  1.]\n",
      " [66. 77. 12.  1.]\n",
      " [44. 95. 51.  1.]\n",
      " [84. 23. 59.  1.]\n",
      " [27. 21. 12.  1.]\n",
      " [29.  2. 35.  1.]\n",
      " [93.  3. 91.  1.]\n",
      " [58. 12. 56.  1.]\n",
      " [27. 11. 83.  1.]\n",
      " [98. 64. 20.  1.]\n",
      " [57. 87. 57.  1.]\n",
      " [59. 58. 54.  1.]\n",
      " [55. 98. 72.  1.]\n",
      " [81. 21. 37.  1.]\n",
      " [37. 29.  1.  1.]\n",
      " [49. 59. 89.  1.]\n",
      " [17. 92. 44.  1.]\n",
      " [16. 32. 90.  1.]\n",
      " [ 2. 46. 55.  1.]\n",
      " [ 9. 26. 33.  1.]\n",
      " [63. 98.  9.  1.]\n",
      " [54. 15.  3.  1.]\n",
      " [43. 30.  3.  1.]\n",
      " [22. 77. 95.  1.]\n",
      " [80. 80. 88.  1.]\n",
      " [52. 59. 93.  1.]\n",
      " [70. 48. 77.  1.]\n",
      " [41. 15. 64.  1.]\n",
      " [40. 66. 11.  1.]\n",
      " [56.  7. 13.  1.]\n",
      " [ 7. 18. 22.  1.]\n",
      " [78.  9. 29.  1.]\n",
      " [82.  0. 35.  1.]\n",
      " [42. 62. 94.  1.]\n",
      " [18. 41. 91.  1.]\n",
      " [75. 52. 78.  1.]\n",
      " [42. 97. 15.  1.]\n",
      " [18. 43. 50.  1.]\n",
      " [78. 10. 23.  1.]\n",
      " [37. 45. 71.  1.]\n",
      " [ 0.  6. 79.  1.]\n",
      " [13. 73. 19.  1.]\n",
      " [86. 11. 12.  1.]\n",
      " [71. 60. 17.  1.]\n",
      " [55. 86. 30.  1.]\n",
      " [90. 90. 62.  1.]\n",
      " [10. 16. 48.  1.]\n",
      " [91. 38. 26.  1.]\n",
      " [19. 87. 33.  1.]\n",
      " [60. 35. 95.  1.]\n",
      " [ 1.  7. 98.  1.]\n",
      " [ 3. 70. 71.  1.]\n",
      " [51. 79. 50.  1.]\n",
      " [66. 63. 92.  1.]\n",
      " [65.  5. 71.  1.]\n",
      " [71. 80. 11.  1.]\n",
      " [87. 83. 59.  1.]\n",
      " [58. 99. 48.  1.]\n",
      " [77. 97. 48.  1.]\n",
      " [42. 15. 71.  1.]\n",
      " [56. 42. 36.  1.]\n",
      " [98. 10. 55.  1.]]\n"
     ]
    }
   ],
   "source": [
    "# adjust b in w itself \n",
    "w_new = np.hstack((w, b))\n",
    "# adjust x with extra [1..1] column for x_n * b = b\n",
    "ones_row =  np.ones(x.shape[0])\n",
    "x_new = np.hstack((x, ones_row.reshape(-1,1)))\n",
    "\n",
    "\n",
    "print(w_new)\n",
    "print(x_new)"
   ]
  },
  {
   "cell_type": "code",
   "execution_count": 141,
   "metadata": {},
   "outputs": [],
   "source": [
    "def MSE(w,x = x_new,y = y):\n",
    "    y_hat = x@w\n",
    "    loss = np.sum(np.square(y-y_hat))\n",
    "    return loss"
   ]
  },
  {
   "cell_type": "code",
   "execution_count": 169,
   "metadata": {},
   "outputs": [],
   "source": [
    "def der(f_Rn_R,w):\n",
    "    diagonal_elements = np.random.rand(len(w)) * 1e-5\n",
    "    diagonal_matrix = np.diag(diagonal_elements) + w                            #SQUARE MATRIX\n",
    "    f_x_h = np.apply_along_axis(f_Rn_R, axis=1, arr=diagonal_matrix)            #ROW MATRIX\n",
    "    f_x = np.apply_along_axis(f_Rn_R, axis=1,arr = np.tile(w,(len(w),1)))       #ROW MATRIX\n",
    "    delta_w_L = ( f_x_h - f_x ) / diagonal_elements                             #ROW MATRIX\n",
    "    return delta_w_L\n",
    "    "
   ]
  },
  {
   "cell_type": "code",
   "execution_count": 170,
   "metadata": {},
   "outputs": [
    {
     "data": {
      "text/plain": [
       "array([53353728.93953045, 57361600.88119494, 60904935.33643652,\n",
       "        1029666.04555207])"
      ]
     },
     "execution_count": 170,
     "metadata": {},
     "output_type": "execute_result"
    }
   ],
   "source": [
    "L = MSE\n",
    "der(L,w_new)"
   ]
  },
  {
   "cell_type": "code",
   "execution_count": 171,
   "metadata": {},
   "outputs": [
    {
     "data": {
      "text/plain": [
       "-53353726"
      ]
     },
     "execution_count": 171,
     "metadata": {},
     "output_type": "execute_result"
    }
   ],
   "source": [
    "#cross check\n",
    "del_L_w0= np.sum(2*((y-y_hat).T@x[:,0]))\n",
    "del_L_w0"
   ]
  },
  {
   "cell_type": "code",
   "execution_count": 217,
   "metadata": {},
   "outputs": [],
   "source": [
    "import math as Math\n",
    "def projectile_motion(v1):\n",
    "    o,v0,t,g = v1\n",
    "    f1 = v0*Math.cos(o)*t\n",
    "    f2 = (v0*Math.sin(o)*t)-(1/2)*g*t**2\n",
    "    return np.array([f1,f2])"
   ]
  },
  {
   "cell_type": "code",
   "execution_count": 218,
   "metadata": {},
   "outputs": [],
   "source": [
    "import math as Math\n",
    "def radius_xy(v1):\n",
    "    r,o = v1\n",
    "    x = r*Math.cos(o)\n",
    "    y = r*Math.sin(o)\n",
    "    return np.array([x,y])"
   ]
  },
  {
   "cell_type": "code",
   "execution_count": 219,
   "metadata": {},
   "outputs": [],
   "source": [
    "def T_der(f_Rm_Rn,w):\n",
    "    diagonal_elements = np.random.rand(len(w)) * 1                               #ROW MATRIX\n",
    "    diagonal_matrix = np.diag(diagonal_elements) + w                                #SQUARE MATRIX\n",
    "    f_x_h = np.apply_along_axis(f_Rm_Rn, axis=1, arr=diagonal_matrix)               # M*N MATRIX (  [[f1(w1+h),f2(w1+h)],[f1(w2+h),f2(w2+h)]]  )\n",
    "    f_x = np.apply_along_axis(f_Rm_Rn, axis=1,arr = np.tile(w,(len(w),1)))          # M*N MATRIX (  [[f1(w1),f2(w1)],[f1(w2),f2(w2)]]  )\n",
    "    delta_w_L = ( f_x_h - f_x ) / diagonal_elements[:, np.newaxis]                  # M*N MATRIX (  [[f1(w1+h)-f1(w1)/h1,f2(w1+h)-f2(w1)/h1],   ])\n",
    "    return delta_w_L.T"
   ]
  },
  {
   "cell_type": "code",
   "execution_count": 222,
   "metadata": {},
   "outputs": [
    {
     "data": {
      "text/plain": [
       "array([[ 3210497.348045  , 16651123.38945163,  6250891.88423455,\n",
       "         4482320.39504929],\n",
       "       [  517101.8109526 ,  2681929.03642292,  1006805.85061841,\n",
       "          721949.20047549],\n",
       "       [ 1750034.57019715,  9076488.28363095,  3407346.49684001,\n",
       "         2443302.32847339],\n",
       "       [   37287.26330087,   193388.98456209,    72598.92355763,\n",
       "           52058.43290007]])"
      ]
     },
     "execution_count": 222,
     "metadata": {},
     "output_type": "execute_result"
    }
   ],
   "source": [
    "L = projectile_motion\n",
    "w = np.array([2,1.0472,3,4])\n",
    "T_der(L,w)"
   ]
  },
  {
   "cell_type": "code",
   "execution_count": null,
   "metadata": {},
   "outputs": [],
   "source": []
  },
  {
   "cell_type": "code",
   "execution_count": null,
   "metadata": {},
   "outputs": [],
   "source": []
  }
 ],
 "metadata": {
  "kernelspec": {
   "display_name": "ML_331",
   "language": "python",
   "name": "python3"
  },
  "language_info": {
   "codemirror_mode": {
    "name": "ipython",
    "version": 3
   },
   "file_extension": ".py",
   "mimetype": "text/x-python",
   "name": "python",
   "nbconvert_exporter": "python",
   "pygments_lexer": "ipython3",
   "version": "3.12.0"
  }
 },
 "nbformat": 4,
 "nbformat_minor": 2
}
