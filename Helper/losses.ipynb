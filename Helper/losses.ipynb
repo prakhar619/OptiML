{
 "cells": [
  {
   "cell_type": "code",
   "execution_count": null,
   "metadata": {},
   "outputs": [],
   "source": [
    "def MSE(w,x = x_new,y = y):\n",
    "    y_hat = x@w\n",
    "    loss =  np.square(y-y_hat)\n",
    "    cost = np.sum(loss)\n",
    "    return cost"
   ]
  },
  {
   "cell_type": "code",
   "execution_count": null,
   "metadata": {},
   "outputs": [],
   "source": [
    "import math as Math\n",
    "def logLoss(w,x = x_new,y = y):\n",
    "    #actually its cost\n",
    "    y_hat = ((x@w).astype(float))\n",
    "    y_hat_neg = 1 - y_hat\n",
    "    loss = np.log((y_hat ** y) * (y_hat_neg ** (1-y)))\n",
    "    cost = np.sum(loss)\n",
    "    #loss_ = np.prod( )\n",
    "    #cost_ = np.log( )\n",
    "    return cost"
   ]
  },
  {
   "cell_type": "code",
   "execution_count": null,
   "metadata": {},
   "outputs": [],
   "source": [
    "import math as Math\n",
    "def logLoss(w_dk,x = x_new,y_nk = y):\n",
    "    #actually its cost\n",
    "    #more general loss function; multiclass loss function\n",
    "    y_hat = ((w_dk@x.T).astype(float))\n",
    "    loss = y_nk * np.log(y_hat)\n",
    "    cost = np.sum(loss)\n",
    "    #loss_ = np.prod( )\n",
    "    #cost_ = np.log( )\n",
    "    return cost"
   ]
  }
 ],
 "metadata": {
  "language_info": {
   "name": "python"
  }
 },
 "nbformat": 4,
 "nbformat_minor": 2
}
