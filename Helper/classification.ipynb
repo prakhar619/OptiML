{
 "cells": [
  {
   "cell_type": "markdown",
   "metadata": {},
   "source": [
    "## Classification\n",
    "### Single Class and MultiClass"
   ]
  },
  {
   "cell_type": "code",
   "execution_count": 114,
   "metadata": {},
   "outputs": [],
   "source": [
    "import numpy as np"
   ]
  },
  {
   "cell_type": "code",
   "execution_count": 115,
   "metadata": {},
   "outputs": [],
   "source": [
    "#Parameters\n",
    "inputDim = 3\n",
    "inputCount = 1000"
   ]
  },
  {
   "cell_type": "code",
   "execution_count": 116,
   "metadata": {},
   "outputs": [],
   "source": [
    "x = np.random.rand(inputCount,inputDim)\n",
    "#binary classification ( y = 0 or y = 1)\n",
    "y = np.random.randint(2,size=(inputCount,))"
   ]
  },
  {
   "cell_type": "code",
   "execution_count": 117,
   "metadata": {},
   "outputs": [],
   "source": [
    "w = np.random.rand(inputDim+1)"
   ]
  },
  {
   "cell_type": "code",
   "execution_count": 118,
   "metadata": {},
   "outputs": [],
   "source": [
    "ones_row =  np.ones(x.shape[0])\n",
    "x_new = np.hstack((x, ones_row.reshape(-1,1)))"
   ]
  },
  {
   "cell_type": "code",
   "execution_count": 119,
   "metadata": {},
   "outputs": [],
   "source": [
    "def sigmoid(x):\n",
    "    return 1 / (1 + np.exp(-x))"
   ]
  },
  {
   "cell_type": "code",
   "execution_count": 120,
   "metadata": {},
   "outputs": [],
   "source": [
    "y_hat = sigmoid(x_new@w)"
   ]
  },
  {
   "cell_type": "code",
   "execution_count": 121,
   "metadata": {},
   "outputs": [],
   "source": [
    "import math as Math\n",
    "def logLoss(w,x = x_new,y = y):\n",
    "    #actually its cost\n",
    "\n",
    "    y_hat = sigmoid((x@w).astype(float))\n",
    "    y_hat_neg = 1 - y_hat\n",
    "    loss = np.log((y_hat ** y) * (y_hat_neg ** (1-y)))\n",
    "    cost = np.sum(loss)\n",
    "    #loss_ = np.prod( )\n",
    "    #cost_ = np.log( )\n",
    "    return cost"
   ]
  },
  {
   "cell_type": "code",
   "execution_count": 122,
   "metadata": {},
   "outputs": [
    {
     "data": {
      "text/plain": [
       "-793.4319503522379"
      ]
     },
     "execution_count": 122,
     "metadata": {},
     "output_type": "execute_result"
    }
   ],
   "source": [
    "logLoss(w)"
   ]
  },
  {
   "cell_type": "code",
   "execution_count": 123,
   "metadata": {},
   "outputs": [],
   "source": [
    "def der(f_Rn_R,w):\n",
    "    diagonal_elements = np.random.rand(len(w)) * 1e-5\n",
    "    diagonal_matrix = np.diag(diagonal_elements) + w                            #SQUARE MATRIX\n",
    "    f_x_h = np.apply_along_axis(f_Rn_R, axis=1, arr=diagonal_matrix)            #ROW MATRIX\n",
    "    f_x = np.apply_along_axis(f_Rn_R, axis=1,arr = np.tile(w,(len(w),1)))       #ROW MATRIX\n",
    "    delta_w_L = ( f_x_h - f_x ) / diagonal_elements                             #ROW MATRIX\n",
    "    return delta_w_L"
   ]
  },
  {
   "cell_type": "code",
   "execution_count": 124,
   "metadata": {},
   "outputs": [
    {
     "data": {
      "text/plain": [
       "array([-109.95122547, -107.80597493, -114.23949172, -212.95879759])"
      ]
     },
     "execution_count": 124,
     "metadata": {},
     "output_type": "execute_result"
    }
   ],
   "source": [
    "delta_w_L = der(logLoss,w)\n",
    "delta_w_L"
   ]
  },
  {
   "cell_type": "code",
   "execution_count": 125,
   "metadata": {},
   "outputs": [],
   "source": [
    "#another method to get delta_wL\n",
    "delta_p_L = y - y_hat\n",
    "delta_w_L_alt = x_new.T@delta_p_L"
   ]
  },
  {
   "cell_type": "code",
   "execution_count": 126,
   "metadata": {},
   "outputs": [
    {
     "data": {
      "text/plain": [
       "array([-109.95109859, -107.80570006, -114.23937173, -212.95826676])"
      ]
     },
     "execution_count": 126,
     "metadata": {},
     "output_type": "execute_result"
    }
   ],
   "source": [
    "delta_w_L_alt"
   ]
  },
  {
   "cell_type": "code",
   "execution_count": 133,
   "metadata": {},
   "outputs": [],
   "source": [
    "#Multilabel Classification\n",
    "classCount = 10\n",
    "y2 = np.random.randint(classCount,size=(inputCount,))"
   ]
  },
  {
   "cell_type": "code",
   "execution_count": 136,
   "metadata": {},
   "outputs": [
    {
     "data": {
      "text/plain": [
       "array([[0.5032708 , 0.3302063 , 0.19733581, 0.3555817 ],\n",
       "       [0.52411438, 0.80566605, 0.41713446, 0.92536099],\n",
       "       [0.51517084, 0.71097415, 0.22926535, 0.85144108],\n",
       "       [0.30450769, 0.96527485, 0.6189717 , 0.47871542],\n",
       "       [0.40989169, 0.45641189, 0.34283655, 0.67734084],\n",
       "       [0.80041731, 0.67832135, 0.31504948, 0.50363159],\n",
       "       [0.44183073, 0.57440934, 0.18093254, 0.9353641 ],\n",
       "       [0.18877688, 0.05259048, 0.42821611, 0.53806909],\n",
       "       [0.33338735, 0.58195195, 0.31425391, 0.28399054],\n",
       "       [0.71436671, 0.36662895, 0.93418445, 0.62196403]])"
      ]
     },
     "execution_count": 136,
     "metadata": {},
     "output_type": "execute_result"
    }
   ],
   "source": [
    "w2 = np.random.rand(classCount,inputDim+1)\n",
    "w2"
   ]
  },
  {
   "cell_type": "code",
   "execution_count": 155,
   "metadata": {},
   "outputs": [],
   "source": [
    "def oneHot_encoding(categories ,labels):\n",
    "    num_samples = len(labels)\n",
    "    num_categories = len(categories)\n",
    "    one_hot = np.zeros((num_samples, num_categories))\n",
    "\n",
    "    # Perform one-hot encoding\n",
    "    for i, label in enumerate(labels):\n",
    "        index = categories.index(label)\n",
    "        one_hot[i, index] = 1\n",
    "    return one_hot"
   ]
  },
  {
   "cell_type": "code",
   "execution_count": 156,
   "metadata": {},
   "outputs": [],
   "source": [
    "y_encoded = oneHot_encoding([i for i in range(0,10)],y2)"
   ]
  },
  {
   "cell_type": "code",
   "execution_count": 157,
   "metadata": {},
   "outputs": [
    {
     "data": {
      "text/plain": [
       "array([[0., 0., 0., ..., 0., 0., 0.],\n",
       "       [0., 0., 0., ..., 0., 1., 0.],\n",
       "       [0., 1., 0., ..., 0., 0., 0.],\n",
       "       ...,\n",
       "       [0., 0., 0., ..., 0., 0., 0.],\n",
       "       [0., 0., 0., ..., 0., 0., 1.],\n",
       "       [0., 0., 0., ..., 0., 0., 0.]])"
      ]
     },
     "execution_count": 157,
     "metadata": {},
     "output_type": "execute_result"
    }
   ],
   "source": [
    "y_encoded"
   ]
  },
  {
   "cell_type": "code",
   "execution_count": 161,
   "metadata": {},
   "outputs": [],
   "source": [
    "import math as Math\n",
    "def logLoss(w_dk,x = x_new,y_nk = y):\n",
    "    #actually its cost\n",
    "    y_hat = ((x@w_dk.T).astype(float))\n",
    "    loss = y_nk * np.log(y_hat)\n",
    "    cost = np.sum(loss)\n",
    "    #loss_ = np.prod( )\n",
    "    #cost_ = np.log( )\n",
    "    return cost"
   ]
  },
  {
   "cell_type": "code",
   "execution_count": 162,
   "metadata": {},
   "outputs": [
    {
     "data": {
      "text/plain": [
       "59.04547232882163"
      ]
     },
     "execution_count": 162,
     "metadata": {},
     "output_type": "execute_result"
    }
   ],
   "source": [
    "logLoss(w,x_new,y_encoded)"
   ]
  },
  {
   "cell_type": "code",
   "execution_count": null,
   "metadata": {},
   "outputs": [],
   "source": []
  }
 ],
 "metadata": {
  "kernelspec": {
   "display_name": "ML_331",
   "language": "python",
   "name": "python3"
  },
  "language_info": {
   "codemirror_mode": {
    "name": "ipython",
    "version": 3
   },
   "file_extension": ".py",
   "mimetype": "text/x-python",
   "name": "python",
   "nbconvert_exporter": "python",
   "pygments_lexer": "ipython3",
   "version": "3.12.0"
  }
 },
 "nbformat": 4,
 "nbformat_minor": 2
}
