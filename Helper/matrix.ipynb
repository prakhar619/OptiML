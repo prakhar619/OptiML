{
 "cells": [
  {
   "cell_type": "code",
   "execution_count": 3,
   "metadata": {},
   "outputs": [],
   "source": [
    "import numpy as np"
   ]
  },
  {
   "cell_type": "code",
   "execution_count": 4,
   "metadata": {},
   "outputs": [],
   "source": [
    "#Parameters\n",
    "inputDim = 3\n",
    "inputCount = 100"
   ]
  },
  {
   "cell_type": "code",
   "execution_count": 5,
   "metadata": {},
   "outputs": [],
   "source": [
    "#x is dataset\n",
    "x = np.random.randint(100,size=(inputCount,inputDim))"
   ]
  },
  {
   "cell_type": "code",
   "execution_count": 6,
   "metadata": {},
   "outputs": [
    {
     "data": {
      "text/plain": [
       "array([[77, 41, 17],\n",
       "       [65, 50, 97],\n",
       "       [ 3, 96, 29],\n",
       "       [37, 52, 24],\n",
       "       [25, 54, 15],\n",
       "       [49, 80, 68],\n",
       "       [78, 98, 28],\n",
       "       [69, 55, 96],\n",
       "       [ 3, 28, 87],\n",
       "       [93, 93, 84],\n",
       "       [70, 27, 85],\n",
       "       [62, 47, 42],\n",
       "       [57,  2, 65],\n",
       "       [73, 73, 61],\n",
       "       [27, 52, 83],\n",
       "       [59, 58, 91],\n",
       "       [39, 39, 32],\n",
       "       [28,  4, 78],\n",
       "       [77, 68, 75],\n",
       "       [31, 10, 74],\n",
       "       [77, 61, 29],\n",
       "       [10, 29, 20],\n",
       "       [86, 75, 87],\n",
       "       [ 1, 84, 34],\n",
       "       [90, 85, 72],\n",
       "       [72,  1, 36],\n",
       "       [75, 85, 88],\n",
       "       [31, 32, 24],\n",
       "       [10, 16, 76],\n",
       "       [96, 59, 77],\n",
       "       [92,  4, 29],\n",
       "       [10, 39, 79],\n",
       "       [31, 83, 48],\n",
       "       [ 0, 82, 89],\n",
       "       [27, 34, 45],\n",
       "       [68, 15, 17],\n",
       "       [57, 16, 73],\n",
       "       [69, 16, 45],\n",
       "       [81, 35, 79],\n",
       "       [29,  9, 91],\n",
       "       [72, 20, 91],\n",
       "       [64, 87, 88],\n",
       "       [11, 37, 76],\n",
       "       [ 0, 15, 35],\n",
       "       [47, 37, 17],\n",
       "       [55, 49, 65],\n",
       "       [86, 78, 33],\n",
       "       [64, 55, 89],\n",
       "       [89, 80, 50],\n",
       "       [53, 59, 87],\n",
       "       [60,  2, 38],\n",
       "       [15, 91, 80],\n",
       "       [52, 43,  2],\n",
       "       [27, 48,  2],\n",
       "       [67, 16,  1],\n",
       "       [35, 45, 89],\n",
       "       [27,  4, 46],\n",
       "       [25,  5, 37],\n",
       "       [ 1,  0, 20],\n",
       "       [36, 50, 58],\n",
       "       [32, 11, 77],\n",
       "       [26, 93, 26],\n",
       "       [38, 74, 32],\n",
       "       [63, 22, 34],\n",
       "       [ 2, 25, 54],\n",
       "       [68, 27, 40],\n",
       "       [73, 81, 47],\n",
       "       [29, 92,  4],\n",
       "       [89, 20, 73],\n",
       "       [67, 24, 27],\n",
       "       [21, 99, 78],\n",
       "       [99, 95, 40],\n",
       "       [ 4, 45, 84],\n",
       "       [99,  1, 69],\n",
       "       [98, 79, 75],\n",
       "       [46,  2, 77],\n",
       "       [30, 76, 62],\n",
       "       [82, 24, 43],\n",
       "       [34, 59, 62],\n",
       "       [38, 12, 35],\n",
       "       [73,  4, 92],\n",
       "       [90, 43, 74],\n",
       "       [27,  4, 10],\n",
       "       [ 6, 39, 68],\n",
       "       [75, 72,  1],\n",
       "       [33, 77, 96],\n",
       "       [82, 92,  9],\n",
       "       [ 7,  7, 55],\n",
       "       [93, 87,  6],\n",
       "       [13, 42, 71],\n",
       "       [29, 63, 20],\n",
       "       [78, 99, 91],\n",
       "       [19, 57, 21],\n",
       "       [35, 15, 62],\n",
       "       [35,  9, 33],\n",
       "       [92, 46, 79],\n",
       "       [47,  1, 33],\n",
       "       [ 2, 45, 69],\n",
       "       [41, 75, 22],\n",
       "       [50, 95, 23]])"
      ]
     },
     "execution_count": 6,
     "metadata": {},
     "output_type": "execute_result"
    }
   ],
   "source": [
    "x"
   ]
  },
  {
   "cell_type": "code",
   "execution_count": 7,
   "metadata": {},
   "outputs": [],
   "source": [
    "#w is weight vector\n",
    "w = np.random.randint(100,size=(inputDim))"
   ]
  },
  {
   "cell_type": "code",
   "execution_count": 8,
   "metadata": {},
   "outputs": [
    {
     "data": {
      "text/plain": [
       "array([78, 92, 23])"
      ]
     },
     "execution_count": 8,
     "metadata": {},
     "output_type": "execute_result"
    }
   ],
   "source": [
    "w"
   ]
  },
  {
   "cell_type": "code",
   "execution_count": 9,
   "metadata": {},
   "outputs": [],
   "source": [
    "# b is bias\n",
    "b = np.random.randint(100)"
   ]
  },
  {
   "cell_type": "code",
   "execution_count": 10,
   "metadata": {},
   "outputs": [
    {
     "data": {
      "text/plain": [
       "5"
      ]
     },
     "execution_count": 10,
     "metadata": {},
     "output_type": "execute_result"
    }
   ],
   "source": [
    "b"
   ]
  },
  {
   "cell_type": "code",
   "execution_count": 11,
   "metadata": {},
   "outputs": [
    {
     "data": {
      "text/plain": [
       "array([10169, 11901,  9733,  8222,  7263, 12746, 15744, 12650,  4811,\n",
       "       17742,  9899, 10126,  6125, 13813,  8799, 12031,  7366,  4346,\n",
       "       13987,  5040, 12285,  3908, 15609,  8588, 16496,  6536, 15694,\n",
       "        5914,  4000, 14687,  8211,  6185, 11158,  9591,  6269,  7075,\n",
       "        7597,  7889, 11355,  5183,  9549, 15020,  6010,  2185,  7461,\n",
       "       10293, 14643, 12099, 15452, 11563,  5738, 11382,  8058,  6568,\n",
       "        6721,  8917,  3532,  3261,   538,  8742,  5279, 11182, 10508,\n",
       "        7720,  3698,  8708, 14227, 10818, 10461,  8055, 12540, 17382,\n",
       "        6384,  9401, 16637,  5543, 10758,  9593,  9506,  4873,  8178,\n",
       "       12678,  2704,  5620, 12497, 11866, 15067,  2455, 15396,  6511,\n",
       "        8518, 17285,  7209,  5536,  4317, 13225,  4517,  5883, 10604,\n",
       "       13169])"
      ]
     },
     "execution_count": 11,
     "metadata": {},
     "output_type": "execute_result"
    }
   ],
   "source": [
    "# @ is dot product (matrix multiplication)\n",
    "# x(100 * 3) . w(3 * 1)\n",
    "x@w "
   ]
  },
  {
   "cell_type": "code",
   "execution_count": 12,
   "metadata": {},
   "outputs": [],
   "source": [
    "y_hat = x@w + b"
   ]
  },
  {
   "cell_type": "code",
   "execution_count": 13,
   "metadata": {},
   "outputs": [],
   "source": [
    "# y is the label\n",
    "y = np.random.randint(100,size=(inputCount))"
   ]
  },
  {
   "cell_type": "code",
   "execution_count": 14,
   "metadata": {},
   "outputs": [
    {
     "data": {
      "text/plain": [
       "array([32, 88, 13, 54, 45, 79, 45, 30, 92, 85, 82, 93, 12, 96, 30, 25, 88,\n",
       "       80,  1, 63, 32,  9, 48, 64, 43, 91, 72, 49, 44, 71, 76, 63, 24, 30,\n",
       "       57, 38, 79, 71, 32, 35, 30, 62, 77, 10, 28,  2, 49, 20, 69, 73, 94,\n",
       "       57, 24, 39,  9, 27, 17, 29, 28, 95, 95, 64, 65, 60, 59, 54, 65, 23,\n",
       "       41, 11, 62, 71,  4, 63, 19, 36, 22, 56, 24, 83, 37, 21, 90, 96, 72,\n",
       "        9, 15, 20, 89, 40, 79, 99, 44, 40, 30, 64,  0,  4, 17, 44])"
      ]
     },
     "execution_count": 14,
     "metadata": {},
     "output_type": "execute_result"
    }
   ],
   "source": [
    "y"
   ]
  }
 ],
 "metadata": {
  "kernelspec": {
   "display_name": "ML_331",
   "language": "python",
   "name": "python3"
  },
  "language_info": {
   "codemirror_mode": {
    "name": "ipython",
    "version": 3
   },
   "file_extension": ".py",
   "mimetype": "text/x-python",
   "name": "python",
   "nbconvert_exporter": "python",
   "pygments_lexer": "ipython3",
   "version": "3.12.0"
  }
 },
 "nbformat": 4,
 "nbformat_minor": 2
}
