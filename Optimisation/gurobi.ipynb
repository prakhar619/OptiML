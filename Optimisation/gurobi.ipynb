{
 "cells": [
  {
   "cell_type": "code",
   "execution_count": null,
   "metadata": {},
   "outputs": [],
   "source": []
  },
  {
   "cell_type": "code",
   "execution_count": 1,
   "metadata": {},
   "outputs": [],
   "source": [
    "from gurobipy import *"
   ]
  },
  {
   "cell_type": "code",
   "execution_count": 3,
   "metadata": {},
   "outputs": [],
   "source": [
    "m = Model()\n",
    "x = m.addVar(lb = 0, name='x_var')\n",
    "y = m.addVar(lb = 0,name='y_var')\n",
    "m.addConstr(x-y ==1)\n",
    "m.setObjective(x**2 + y**2, GRB.MINIMIZE)"
   ]
  },
  {
   "cell_type": "code",
   "execution_count": 4,
   "metadata": {},
   "outputs": [
    {
     "name": "stdout",
     "output_type": "stream",
     "text": [
      "Gurobi Optimizer version 11.0.0 build v11.0.0rc2 (win64 - Windows 11+.0 (22631.2))\n",
      "\n",
      "CPU model: AMD Ryzen 7 5800H with Radeon Graphics, instruction set [SSE2|AVX|AVX2]\n",
      "Thread count: 8 physical cores, 16 logical processors, using up to 16 threads\n",
      "\n",
      "Optimize a model with 1 rows, 2 columns and 2 nonzeros\n",
      "Model fingerprint: 0x51df50f6\n",
      "Model has 2 quadratic objective terms\n",
      "Coefficient statistics:\n",
      "  Matrix range     [1e+00, 1e+00]\n",
      "  Objective range  [0e+00, 0e+00]\n",
      "  QObjective range [2e+00, 2e+00]\n",
      "  Bounds range     [0e+00, 0e+00]\n",
      "  RHS range        [1e+00, 1e+00]\n",
      "Presolve time: 0.00s\n",
      "Presolved: 1 rows, 2 columns, 2 nonzeros\n",
      "Presolved model has 2 quadratic objective terms\n",
      "Ordering time: 0.00s\n",
      "\n",
      "Barrier statistics:\n",
      " AA' NZ     : 0.000e+00\n",
      " Factor NZ  : 1.000e+00\n",
      " Factor Ops : 1.000e+00 (less than 1 second per iteration)\n",
      " Threads    : 1\n",
      "\n",
      "                  Objective                Residual\n",
      "Iter       Primal          Dual         Primal    Dual     Compl     Time\n",
      "   0   5.00000500e+05 -5.00000500e+05  0.00e+00 0.00e+00  9.99e+05     0s\n",
      "   1   1.38137516e+05 -1.38135642e+05  1.14e-13 0.00e+00  1.38e+05     0s\n",
      "   2   2.02392650e+04 -2.02373115e+04  0.00e+00 0.00e+00  2.02e+04     0s\n",
      "   3   2.96595301e+03 -2.96397006e+03  0.00e+00 7.11e-15  2.96e+03     0s\n",
      "   4   4.35241999e+02 -4.33248258e+02  1.42e-14 1.07e-14  4.34e+02     0s\n",
      "   5   6.44687783e+01 -6.24710718e+01  0.00e+00 0.00e+00  6.35e+01     0s\n",
      "   6   1.01487376e+01 -8.14956700e+00  0.00e+00 4.44e-16  9.15e+00     0s\n",
      "   7   2.20034528e+00 -2.00619714e-01  0.00e+00 3.33e-16  1.20e+00     0s\n",
      "   8   1.08517118e+00  9.14778060e-01  0.00e+00 2.22e-16  8.52e-02     0s\n",
      "   9   1.00023292e+00  9.99766674e-01  0.00e+00 0.00e+00  2.33e-04     0s\n",
      "  10   1.00000023e+00  9.99999767e-01  2.22e-16 0.00e+00  2.33e-07     0s\n",
      "  11   1.00000000e+00  1.00000000e+00  4.44e-16 0.00e+00  2.34e-10     0s\n",
      "\n",
      "Barrier solved model in 11 iterations and 0.02 seconds (0.00 work units)\n",
      "Optimal objective 1.00000000e+00\n",
      "\n"
     ]
    }
   ],
   "source": [
    "m.optimize()"
   ]
  },
  {
   "cell_type": "code",
   "execution_count": 5,
   "metadata": {},
   "outputs": [
    {
     "name": "stdout",
     "output_type": "stream",
     "text": [
      "Optimal x = 1.0000000001166538\n",
      "Optimal y = 1.1665363815939915e-10\n"
     ]
    }
   ],
   "source": [
    "print(\"Optimal x =\",str(x.x))\n",
    "print(\"Optimal y =\", str(y.x))"
   ]
  },
  {
   "cell_type": "code",
   "execution_count": 6,
   "metadata": {},
   "outputs": [
    {
     "name": "stdout",
     "output_type": "stream",
     "text": [
      "Optimal objective = 1.0000000002333076\n"
     ]
    }
   ],
   "source": [
    "print(\"Optimal objective =\",str(m.ObjVal))"
   ]
  },
  {
   "cell_type": "code",
   "execution_count": null,
   "metadata": {},
   "outputs": [],
   "source": []
  }
 ],
 "metadata": {
  "kernelspec": {
   "display_name": "ML_331",
   "language": "python",
   "name": "python3"
  },
  "language_info": {
   "codemirror_mode": {
    "name": "ipython",
    "version": 3
   },
   "file_extension": ".py",
   "mimetype": "text/x-python",
   "name": "python",
   "nbconvert_exporter": "python",
   "pygments_lexer": "ipython3",
   "version": "3.12.0"
  }
 },
 "nbformat": 4,
 "nbformat_minor": 2
}
