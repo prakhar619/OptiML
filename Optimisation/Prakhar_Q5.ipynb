{
 "cells": [
  {
   "cell_type": "code",
   "execution_count": 233,
   "metadata": {},
   "outputs": [],
   "source": [
    "import numpy as np\n",
    "from gurobipy import *\n",
    "import matplotlib.pyplot as plt"
   ]
  },
  {
   "cell_type": "markdown",
   "metadata": {},
   "source": [
    "### Q5"
   ]
  },
  {
   "cell_type": "markdown",
   "metadata": {},
   "source": [
    "#### (c)"
   ]
  },
  {
   "cell_type": "code",
   "execution_count": 234,
   "metadata": {},
   "outputs": [
    {
     "data": {
      "text/plain": [
       "array([[  1.,   0.,   0.,   0.],\n",
       "       [  1.,   1.,   1.,   1.],\n",
       "       [  1.,   2.,   4.,   8.],\n",
       "       [  1.,   3.,   9.,  27.],\n",
       "       [  1.,   4.,  16.,  64.],\n",
       "       [  1.,   5.,  25., 125.],\n",
       "       [  1.,   6.,  36., 216.]])"
      ]
     },
     "execution_count": 234,
     "metadata": {},
     "output_type": "execute_result"
    }
   ],
   "source": [
    "\n",
    "dataset = np.array([[0,0],[1,3],[2,7],[3,-1],[4,0],[5,5],[6,10]])\n",
    "\n",
    "A = np.hstack((np.ones((dataset.shape[0],1)), np.array([dataset[:,0]]).T, np.array([dataset[:,0]]).T**2, np.array([dataset[:,0]]).T**3))\n",
    "A"
   ]
  },
  {
   "cell_type": "code",
   "execution_count": 235,
   "metadata": {},
   "outputs": [
    {
     "data": {
      "text/plain": [
       "array([[0.],\n",
       "       [0.],\n",
       "       [0.],\n",
       "       [0.]])"
      ]
     },
     "execution_count": 235,
     "metadata": {},
     "output_type": "execute_result"
    }
   ],
   "source": [
    "c = np.zeros((4,1))\n",
    "c"
   ]
  },
  {
   "cell_type": "code",
   "execution_count": 236,
   "metadata": {},
   "outputs": [
    {
     "data": {
      "text/plain": [
       "array([[ 0],\n",
       "       [ 3],\n",
       "       [ 7],\n",
       "       [-1],\n",
       "       [ 0],\n",
       "       [ 5],\n",
       "       [10]])"
      ]
     },
     "execution_count": 236,
     "metadata": {},
     "output_type": "execute_result"
    }
   ],
   "source": [
    "Y = np.array([dataset[:,1]])\n",
    "Y = Y.T\n",
    "Y"
   ]
  },
  {
   "cell_type": "code",
   "execution_count": 237,
   "metadata": {},
   "outputs": [],
   "source": [
    "def L_c(A,c,Y,lamda):\n",
    "    return ((A@c - Y).T @ (A@c - Y) + (lamda*c).T @ (lamda*c))[0][0]"
   ]
  },
  {
   "cell_type": "code",
   "execution_count": 238,
   "metadata": {},
   "outputs": [],
   "source": [
    "def dL_c(A,lamda,c,Y):\n",
    "    return 2*A.T@A@c - 2*A.T@Y + 2*lamda*c"
   ]
  },
  {
   "cell_type": "code",
   "execution_count": 239,
   "metadata": {},
   "outputs": [],
   "source": [
    "def d2L_c(A,lamda):\n",
    "    return 2*A.T@A + 2*lamda*np.identity(A.shape[1])"
   ]
  },
  {
   "cell_type": "code",
   "execution_count": 240,
   "metadata": {},
   "outputs": [
    {
     "name": "stdout",
     "output_type": "stream",
     "text": [
      "For lamda: 0 Iterations: 43817 MinValue of L(c): 25.214285714525417\n",
      "Convergence at c:\n",
      " [[ 1.17913399e-05]\n",
      " [ 6.94045288e+00]\n",
      " [-3.35713399e+00]\n",
      " [ 4.16665767e-01]]\n",
      "For lamda: 1 Iterations: 10934 MinValue of L(c): 44.58893532463462\n",
      "Convergence at c:\n",
      " [[ 1.3471434 ]\n",
      " [ 2.14210532]\n",
      " [-1.31781676]\n",
      " [ 0.19990922]]\n",
      "For lamda: 10 Iterations: 64 MinValue of L(c): 65.45901019181585\n",
      "Convergence at c:\n",
      " [[ 0.05107771]\n",
      " [ 0.03473262]\n",
      " [-0.03522386]\n",
      " [ 0.04676978]]\n",
      "For lamda: 1000 Iterations: 4 MinValue of L(c): 176.32991674604273\n",
      "Convergence at c:\n",
      " [[2.24410475e-05]\n",
      " [9.25693208e-05]\n",
      " [4.74067128e-04]\n",
      " [2.63401795e-03]]\n"
     ]
    }
   ],
   "source": [
    "### Exact Line Search with gradient descent\n",
    "# min f(x - alpha*f'(x))\n",
    "tolerance = 1e-15\n",
    "c_els = []\n",
    "for lamda in [0,1,10,1000]:\n",
    "    c_copy= c.copy()\n",
    "    iter = 0\n",
    "    while(True):\n",
    "        m = Model()\n",
    "        m.Params.LogToConsole = 0\n",
    "        alpha = m.addVar(lb = 0,name='alpha')\n",
    "        c_new = c_copy - alpha*dL_c(A,lamda,c_copy,Y)\n",
    "        m.setObjective(L_c(A,c_new,Y,lamda),GRB.MINIMIZE)\n",
    "        m.optimize()\n",
    "        iter += 1\n",
    "        c_new = c_copy - alpha.x*dL_c(A,lamda,c_copy,Y)\n",
    "        if(abs(L_c(A,c_new,Y,lamda) - L_c(A,c_copy,Y,lamda)) < tolerance):\n",
    "            break\n",
    "        c_copy = c_new\n",
    "    print(\"For lamda:\",lamda,\"Iterations:\",iter,\"MinValue of L(c):\",L_c(A,c_new,Y,lamda))\n",
    "    c_els.append(c_new)\n",
    "    print(\"Convergence at c:\\n\",c_new)\n"
   ]
  },
  {
   "cell_type": "code",
   "execution_count": 241,
   "metadata": {},
   "outputs": [
    {
     "name": "stdout",
     "output_type": "stream",
     "text": [
      "For lamda: 0 Iterations: 2\n",
      "Convergence at:\n",
      " [[-2.54667539e-13]\n",
      " [ 6.94047619e+00]\n",
      " [-3.35714286e+00]\n",
      " [ 4.16666667e-01]]\n",
      "For lamda: 1 Iterations: 2\n",
      "Convergence at:\n",
      " [[ 1.34714193]\n",
      " [ 2.14210824]\n",
      " [-1.31781787]\n",
      " [ 0.19990934]]\n",
      "For lamda: 10 Iterations: 2\n",
      "Convergence at:\n",
      " [[ 0.45365251]\n",
      " [ 0.36843448]\n",
      " [-0.28653158]\n",
      " [ 0.0785151 ]]\n",
      "For lamda: 1000 Iterations: 2\n",
      "Convergence at:\n",
      " [[0.00569429]\n",
      " [0.00480263]\n",
      " [0.00237539]\n",
      " [0.04070031]]\n"
     ]
    }
   ],
   "source": [
    "### NEWTON's METHOD\n",
    "# x = x - f'x/f''x\n",
    "tolerance = 0.01\n",
    "c_newton = []\n",
    "for l in [0,1,10,1000]:\n",
    "    c_old = c.copy()\n",
    "    iter = 0\n",
    "    while(True):\n",
    "        c_new = c_old - np.linalg.inv(d2L_c(A,l)) @ dL_c(A,l,c_old,Y) \n",
    "        iter +=1\n",
    "        if(np.linalg.norm(c_new - c_old) < tolerance):\n",
    "            break\n",
    "        c_old = c_new\n",
    "    print(\"For lamda:\",l,\"Iterations:\",iter)\n",
    "    print(\"Convergence at:\\n\",c_new)\n",
    "    c_newton.append(c_new)"
   ]
  },
  {
   "cell_type": "code",
   "execution_count": 307,
   "metadata": {},
   "outputs": [],
   "source": [
    "plot_x = np.linspace(-2, 10, 1000)\n",
    "def polynomial(c,x):\n",
    "    sum = 0\n",
    "    for i in range(c.shape[0]):\n",
    "        sum += c[i] * x**i\n",
    "    return sum"
   ]
  },
  {
   "cell_type": "code",
   "execution_count": 308,
   "metadata": {},
   "outputs": [],
   "source": [
    "plot_y_all = []\n",
    "for c_new in c_els:\n",
    "    plot_y = []\n",
    "    for i in plot_x:\n",
    "        plot_y.append(polynomial(c_new,i))\n",
    "    plot_y_all.append(plot_y)\n"
   ]
  },
  {
   "cell_type": "code",
   "execution_count": 321,
   "metadata": {},
   "outputs": [
    {
     "data": {
      "image/png": "[encoded data removed]",
      "text/plain": [
       "<Figure size 640x480 with 1 Axes>"
      ]
     },
     "metadata": {},
     "output_type": "display_data"
    }
   ],
   "source": [
    "for plot_y in plot_y_all:\n",
    "    plt.plot(plot_x,plot_y, label=f\"lamdba = {plot_y_all.index(plot_y)} \")\n",
    "plt.grid(True)\n",
    "plt.legend()\n",
    "plt.show()"
   ]
  },
  {
   "cell_type": "code",
   "execution_count": null,
   "metadata": {},
   "outputs": [],
   "source": []
  }
 ],
 "metadata": {
  "kernelspec": {
   "display_name": "ML_331",
   "language": "python",
   "name": "python3"
  },
  "language_info": {
   "codemirror_mode": {
    "name": "ipython",
    "version": 3
   },
   "file_extension": ".py",
   "mimetype": "text/x-python",
   "name": "python",
   "nbconvert_exporter": "python",
   "pygments_lexer": "ipython3",
   "version": "3.12.0"
  }
 },
 "nbformat": 4,
 "nbformat_minor": 2
}
