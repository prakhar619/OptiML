{
 "cells": [
  {
   "cell_type": "code",
   "execution_count": 38,
   "metadata": {},
   "outputs": [],
   "source": [
    "import gurobipy as gp"
   ]
  },
  {
   "cell_type": "code",
   "execution_count": 39,
   "metadata": {},
   "outputs": [],
   "source": [
    "m = gp.Model()\n",
    "#x1 == 1 means I will be doing the job1 whereas 0 means room mate will  be doing the job\n",
    "x1 = m.addVar(vtype=gp.GRB.BINARY,name = 'job1')\n",
    "x2 = m.addVar(vtype=gp.GRB.BINARY,name='job2')\n",
    "x3 = m.addVar(vtype=gp.GRB.BINARY,name='job3')\n",
    "x4 = m.addVar(vtype=gp.GRB.BINARY,name='job4')"
   ]
  },
  {
   "cell_type": "code",
   "execution_count": 40,
   "metadata": {},
   "outputs": [
    {
     "data": {
      "text/plain": [
       "[]"
      ]
     },
     "execution_count": 40,
     "metadata": {},
     "output_type": "execute_result"
    }
   ],
   "source": [
    "m.addConstr(x1+x2+x3+x4 == 2)\n",
    "m.getConstrs()"
   ]
  },
  {
   "cell_type": "code",
   "execution_count": 41,
   "metadata": {},
   "outputs": [],
   "source": [
    "k = 4.5*x1 + 4.9*(1-x1) + 7.8*x2 + 7.2*(1-x2) + 3.6*x3 + 4.3*(1-x3) + 2.9*x4 + 3.1*(1-x4)\n",
    "m.setObjective(k, gp.GRB.MINIMIZE)"
   ]
  },
  {
   "cell_type": "code",
   "execution_count": 42,
   "metadata": {},
   "outputs": [
    {
     "name": "stdout",
     "output_type": "stream",
     "text": [
      "Gurobi Optimizer version 11.0.0 build v11.0.0rc2 (win64 - Windows 11+.0 (22631.2))\n",
      "\n",
      "CPU model: AMD Ryzen 7 5800H with Radeon Graphics, instruction set [SSE2|AVX|AVX2]\n",
      "Thread count: 8 physical cores, 16 logical processors, using up to 16 threads\n",
      "\n",
      "Optimize a model with 1 rows, 4 columns and 4 nonzeros\n",
      "Model fingerprint: 0x0cb5d7a9\n",
      "Variable types: 0 continuous, 4 integer (4 binary)\n",
      "Coefficient statistics:\n",
      "  Matrix range     [1e+00, 1e+00]\n",
      "  Objective range  [2e-01, 7e-01]\n",
      "  Bounds range     [1e+00, 1e+00]\n",
      "  RHS range        [2e+00, 2e+00]\n",
      "Found heuristic solution: objective 19.7000000\n",
      "Presolve removed 1 rows and 4 columns\n",
      "Presolve time: 0.00s\n",
      "Presolve: All rows and columns removed\n",
      "\n",
      "Explored 0 nodes (0 simplex iterations) in 0.00 seconds (0.00 work units)\n",
      "Thread count was 1 (of 16 available processors)\n",
      "\n",
      "Solution count 2: 18.4 19.7 \n",
      "\n",
      "Optimal solution found (tolerance 1.00e-04)\n",
      "Best objective 1.840000000000e+01, best bound 1.840000000000e+01, gap 0.0000%\n"
     ]
    }
   ],
   "source": [
    "m.optimize()"
   ]
  },
  {
   "cell_type": "code",
   "execution_count": 43,
   "metadata": {},
   "outputs": [
    {
     "name": "stdout",
     "output_type": "stream",
     "text": [
      "Optimal x1= 1.0\n",
      "Optimal x2= 0.0\n",
      "Optimal x3= 1.0\n",
      "Optimal x4= 0.0\n"
     ]
    }
   ],
   "source": [
    "print(\"Optimal x1=\",str(x1.x))\n",
    "print(\"Optimal x2=\",str(x2.x))\n",
    "print(\"Optimal x3=\",str(x3.x))\n",
    "print(\"Optimal x4=\",str(x4.x))"
   ]
  },
  {
   "cell_type": "code",
   "execution_count": 44,
   "metadata": {},
   "outputs": [
    {
     "name": "stdout",
     "output_type": "stream",
     "text": [
      "Optimal Time to Complete the every chores 18.400000000000002 hrs\n"
     ]
    }
   ],
   "source": [
    "OptimalTime = m.ObjVal\n",
    "print(\"Optimal Time to Complete the every chores\",OptimalTime,\"hrs\")"
   ]
  },
  {
   "cell_type": "code",
   "execution_count": 45,
   "metadata": {},
   "outputs": [],
   "source": [
    "myTime = 4.5*x1.x + 7.8*x2.x + 3.6*x3.x + 2.9*x4.x\n",
    "partnerTime =  4.9*(1-x1.x) +7.2*(1-x2.x) +  4.3*(1-x3.x)  + 3.1*(1-x4.x)"
   ]
  },
  {
   "cell_type": "code",
   "execution_count": 46,
   "metadata": {},
   "outputs": [
    {
     "name": "stdout",
     "output_type": "stream",
     "text": [
      "Optimal Time taken by me 8.1\n",
      "Optimal Time taken by partner 10.3\n"
     ]
    }
   ],
   "source": [
    "print(\"Optimal Time taken by me\",myTime)\n",
    "print(\"Optimal Time taken by partner\", partnerTime)"
   ]
  },
  {
   "cell_type": "markdown",
   "metadata": {},
   "source": [
    "### (c)"
   ]
  },
  {
   "cell_type": "code",
   "execution_count": 47,
   "metadata": {},
   "outputs": [],
   "source": [
    "m = gp.Model()\n",
    "#x1 == 1 means I will be doing the job1 whereas 0 means room mate will  be doing the job\n",
    "x1 = m.addVar(vtype=gp.GRB.BINARY,name='job1')\n",
    "x2 = m.addVar(vtype=gp.GRB.BINARY,name='job2')\n",
    "x3 = m.addVar(vtype=gp.GRB.BINARY,name='job3')\n",
    "x4 = m.addVar(vtype=gp.GRB.BINARY,name='job4')\n",
    "z = m.addVar(name = \"z\")"
   ]
  },
  {
   "cell_type": "code",
   "execution_count": 48,
   "metadata": {},
   "outputs": [],
   "source": [
    "m.addConstr(x1+x2+x3+x4 == 2)\n",
    "m.addConstr(z >= 4.5*x1 + 7.8*x2 + 3.6*x3  + 2.9*x4 - (3.1*(1-x4) + 4.9*(1-x1) + 4.3*(1-x3) +  7.2*(1-x2)))\n",
    "m.addConstr(z >=  (3.1*(1-x4) + 4.9*(1-x1) + 4.3*(1-x3)+  7.2*(1-x2)) - (4.5*x1 + 7.8*x2 + 3.6*x3  + 2.9*x4))\n",
    "            \n",
    "m.setObjective(z, gp.GRB.MINIMIZE)"
   ]
  },
  {
   "cell_type": "code",
   "execution_count": 49,
   "metadata": {},
   "outputs": [
    {
     "name": "stdout",
     "output_type": "stream",
     "text": [
      "Gurobi Optimizer version 11.0.0 build v11.0.0rc2 (win64 - Windows 11+.0 (22631.2))\n",
      "\n",
      "CPU model: AMD Ryzen 7 5800H with Radeon Graphics, instruction set [SSE2|AVX|AVX2]\n",
      "Thread count: 8 physical cores, 16 logical processors, using up to 16 threads\n",
      "\n",
      "Optimize a model with 3 rows, 5 columns and 14 nonzeros\n",
      "Model fingerprint: 0xbdf55343\n",
      "Variable types: 1 continuous, 4 integer (4 binary)\n",
      "Coefficient statistics:\n",
      "  Matrix range     [1e+00, 2e+01]\n",
      "  Objective range  [1e+00, 1e+00]\n",
      "  Bounds range     [1e+00, 1e+00]\n",
      "  RHS range        [2e+00, 2e+01]\n",
      "Presolve time: 0.00s\n",
      "Presolved: 3 rows, 5 columns, 12 nonzeros\n",
      "Variable types: 0 continuous, 5 integer (4 binary)\n",
      "Found heuristic solution: objective 5.6000000\n",
      "Found heuristic solution: objective 2.2000000\n",
      "\n",
      "Root relaxation: objective 1.500000e+00, 0 iterations, 0.00 seconds (0.00 work units)\n",
      "\n",
      "    Nodes    |    Current Node    |     Objective Bounds      |     Work\n",
      " Expl Unexpl |  Obj  Depth IntInf | Incumbent    BestBd   Gap | It/Node Time\n",
      "\n",
      "*    0     0               0       1.5000000    1.50000  0.00%     -    0s\n",
      "\n",
      "Explored 1 nodes (0 simplex iterations) in 0.01 seconds (0.00 work units)\n",
      "Thread count was 16 (of 16 available processors)\n",
      "\n",
      "Solution count 3: 1.5 2.2 5.6 \n",
      "\n",
      "Optimal solution found (tolerance 1.00e-04)\n",
      "Best objective 1.500000000000e+00, best bound 1.500000000000e+00, gap 0.0000%\n"
     ]
    }
   ],
   "source": [
    "m.optimize()"
   ]
  },
  {
   "cell_type": "code",
   "execution_count": 50,
   "metadata": {},
   "outputs": [
    {
     "name": "stdout",
     "output_type": "stream",
     "text": [
      "Min Time differences between our chore work 1.5 hrs\n"
     ]
    }
   ],
   "source": [
    "OptimalTime = m.ObjVal\n",
    "print(\"Min Time differences between our chore work\",OptimalTime,\"hrs\")"
   ]
  },
  {
   "cell_type": "code",
   "execution_count": 51,
   "metadata": {},
   "outputs": [],
   "source": [
    "myTime = 4.5*x1.x + 7.8*x2.x + 3.6*x3.x + 2.9*x4.x\n",
    "partnerTime =  4.9*(1-x1.x) +7.2*(1-x2.x) +  4.3*(1-x3.x)  + 3.1*(1-x4.x)"
   ]
  },
  {
   "cell_type": "code",
   "execution_count": 52,
   "metadata": {},
   "outputs": [
    {
     "name": "stdout",
     "output_type": "stream",
     "text": [
      "Optimal Time taken by me 10.7\n",
      "Optimal Time taken by partner 9.2\n"
     ]
    }
   ],
   "source": [
    "print(\"Optimal Time taken by me\",myTime)\n",
    "print(\"Optimal Time taken by partner\", partnerTime)"
   ]
  },
  {
   "cell_type": "code",
   "execution_count": null,
   "metadata": {},
   "outputs": [],
   "source": []
  }
 ],
 "metadata": {
  "kernelspec": {
   "display_name": "ML_331",
   "language": "python",
   "name": "python3"
  },
  "language_info": {
   "codemirror_mode": {
    "name": "ipython",
    "version": 3
   },
   "file_extension": ".py",
   "mimetype": "text/x-python",
   "name": "python",
   "nbconvert_exporter": "python",
   "pygments_lexer": "ipython3",
   "version": "3.12.0"
  }
 },
 "nbformat": 4,
 "nbformat_minor": 2
}
