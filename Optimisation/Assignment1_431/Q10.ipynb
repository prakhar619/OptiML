{
 "cells": [
  {
   "cell_type": "code",
   "execution_count": 621,
   "metadata": {},
   "outputs": [],
   "source": [
    "V = ['S','A','B','C','D','E','F','G','H','I','J','T']\n",
    "E = [('S','A',10),('S','D',5),('S','C',2),('S','E',4),('A','B',4),('A','G',2),('A','C',2),('C','G',8),('C','E',5),('E','G',7),('E','F',2),('D','J',2),('D','E',3),('J','F',1),('J','I',5),('F','T', 6),('F','I',10),('G','F',2),('G','H',2),('B','H',3),('I','T',7),('H','T',9),('T','G',6)]"
   ]
  },
  {
   "cell_type": "code",
   "execution_count": 622,
   "metadata": {},
   "outputs": [
    {
     "name": "stdout",
     "output_type": "stream",
     "text": [
      "Vertex: S Connections: 4\n",
      "Vertex: A Connections: 4\n",
      "Vertex: B Connections: 2\n",
      "Vertex: C Connections: 4\n",
      "Vertex: D Connections: 3\n",
      "Vertex: E Connections: 5\n",
      "Vertex: F Connections: 5\n",
      "Vertex: G Connections: 6\n",
      "Vertex: H Connections: 3\n",
      "Vertex: I Connections: 3\n",
      "Vertex: J Connections: 3\n",
      "Vertex: T Connections: 4\n"
     ]
    }
   ],
   "source": [
    "for i in V:\n",
    "    connectionCount = 0\n",
    "    for tu in E:\n",
    "        if tu[0] == i or tu[1] == i:\n",
    "            connectionCount += 1\n",
    "    print(\"Vertex:\",i,\"Connections:\",connectionCount)"
   ]
  },
  {
   "cell_type": "code",
   "execution_count": 623,
   "metadata": {},
   "outputs": [],
   "source": [
    "c = {}\n",
    "for i in V:\n",
    "    x1 = {}\n",
    "    for tu in E:\n",
    "        if i == tu[0]:\n",
    "            x1[tu[1]] = tu[2]\n",
    "    if x1 != {}:\n",
    "        c[i] = x1\n"
   ]
  },
  {
   "cell_type": "code",
   "execution_count": 624,
   "metadata": {},
   "outputs": [
    {
     "data": {
      "text/plain": [
       "{'S': {'A': 10, 'D': 5, 'C': 2, 'E': 4},\n",
       " 'A': {'B': 4, 'G': 2, 'C': 2},\n",
       " 'B': {'H': 3},\n",
       " 'C': {'G': 8, 'E': 5},\n",
       " 'D': {'J': 2, 'E': 3},\n",
       " 'E': {'G': 7, 'F': 2},\n",
       " 'F': {'T': 6, 'I': 10},\n",
       " 'G': {'F': 2, 'H': 2},\n",
       " 'H': {'T': 9},\n",
       " 'I': {'T': 7},\n",
       " 'J': {'F': 1, 'I': 5},\n",
       " 'T': {'G': 6}}"
      ]
     },
     "execution_count": 624,
     "metadata": {},
     "output_type": "execute_result"
    }
   ],
   "source": [
    "c"
   ]
  },
  {
   "cell_type": "code",
   "execution_count": 625,
   "metadata": {},
   "outputs": [],
   "source": [
    "from gurobipy import *"
   ]
  },
  {
   "cell_type": "code",
   "execution_count": 626,
   "metadata": {},
   "outputs": [],
   "source": [
    "m = Model()\n",
    "x = {}\n",
    "for i in c:\n",
    "    x1 = {}\n",
    "    for j in c[i]:\n",
    "        varname = str('var'+i+j)\n",
    "        x1[j] = m.addVar(lb = 0, name=varname)\n",
    "    x[i] = x1\n",
    "v = m.addVar(lb = 0, name=\"maxFlow\")\n"
   ]
  },
  {
   "cell_type": "code",
   "execution_count": 627,
   "metadata": {},
   "outputs": [],
   "source": [
    "for i in x:\n",
    "    sum_= 0\n",
    "    sum = 0\n",
    "    for j in x[i]:\n",
    "        sum += x[i][j]\n",
    "        m.addConstr(x[i][j] <= c[i][j])\n",
    "    for j in x:\n",
    "        if i in x[j]:\n",
    "            sum_ += x[j][i]\n",
    "    if(i == 'S'):\n",
    "            m.addConstr(sum - sum_ == v) \n",
    "    elif(i == 'T'):\n",
    "            m.addConstr(sum - sum_ == -v)\n",
    "    else:\n",
    "        m.addConstr(sum - sum_ == 0)\n"
   ]
  },
  {
   "cell_type": "code",
   "execution_count": 628,
   "metadata": {},
   "outputs": [],
   "source": [
    "m.setObjective(v,GRB.MAXIMIZE)"
   ]
  },
  {
   "cell_type": "code",
   "execution_count": 629,
   "metadata": {},
   "outputs": [
    {
     "name": "stdout",
     "output_type": "stream",
     "text": [
      "Gurobi Optimizer version 11.0.0 build v11.0.0rc2 (win64 - Windows 11+.0 (22631.2))\n",
      "\n",
      "CPU model: AMD Ryzen 7 5800H with Radeon Graphics, instruction set [SSE2|AVX|AVX2]\n",
      "Thread count: 8 physical cores, 16 logical processors, using up to 16 threads\n",
      "\n",
      "Optimize a model with 35 rows, 24 columns and 71 nonzeros\n",
      "Model fingerprint: 0x1a098898\n",
      "Coefficient statistics:\n",
      "  Matrix range     [1e+00, 1e+00]\n",
      "  Objective range  [1e+00, 1e+00]\n",
      "  Bounds range     [0e+00, 0e+00]\n",
      "  RHS range        [1e+00, 1e+01]\n",
      "Presolve removed 29 rows and 10 columns\n",
      "Presolve time: 0.00s\n",
      "Presolved: 6 rows, 14 columns, 24 nonzeros\n",
      "\n",
      "Iteration    Objective       Primal Inf.    Dual Inf.      Time\n",
      "       0    1.7006000e+01   1.400300e+01   0.000000e+00      0s\n",
      "       6    1.1000000e+01   0.000000e+00   0.000000e+00      0s\n",
      "\n",
      "Solved in 6 iterations and 0.01 seconds (0.00 work units)\n",
      "Optimal objective  1.100000000e+01\n"
     ]
    }
   ],
   "source": [
    "m.optimize()"
   ]
  },
  {
   "cell_type": "code",
   "execution_count": 630,
   "metadata": {},
   "outputs": [
    {
     "name": "stdout",
     "output_type": "stream",
     "text": [
      "MaxFlow: 11.0\n"
     ]
    }
   ],
   "source": [
    "OptimalTime = m.ObjVal\n",
    "print(\"MaxFlow:\",OptimalTime)"
   ]
  },
  {
   "cell_type": "code",
   "execution_count": 631,
   "metadata": {},
   "outputs": [
    {
     "data": {
      "text/plain": [
       "11.0"
      ]
     },
     "execution_count": 631,
     "metadata": {},
     "output_type": "execute_result"
    }
   ],
   "source": [
    "v.x"
   ]
  },
  {
   "cell_type": "markdown",
   "metadata": {},
   "source": [
    "### Method2"
   ]
  },
  {
   "cell_type": "code",
   "execution_count": 632,
   "metadata": {},
   "outputs": [],
   "source": [
    "from gurobipy import *"
   ]
  },
  {
   "cell_type": "code",
   "execution_count": 633,
   "metadata": {},
   "outputs": [],
   "source": [
    "n = Model()\n",
    "y = {}\n",
    "for i in c:\n",
    "    x1 = {}\n",
    "    for j in c[i]:\n",
    "        varname = str('var'+i+j)\n",
    "        x1[j] = n.addVar(lb = 0, name=varname)\n",
    "    y[i] = x1"
   ]
  },
  {
   "cell_type": "code",
   "execution_count": 634,
   "metadata": {},
   "outputs": [],
   "source": [
    "u = {}\n",
    "for i in c:\n",
    "    u[i] = n.addVar(lb = 0, name=\"u\"+i)"
   ]
  },
  {
   "cell_type": "code",
   "execution_count": 635,
   "metadata": {},
   "outputs": [
    {
     "data": {
      "text/plain": [
       "<gurobi.Constr *Awaiting Model Update*>"
      ]
     },
     "execution_count": 635,
     "metadata": {},
     "output_type": "execute_result"
    }
   ],
   "source": [
    "for i in y:\n",
    "    for j in y[i]:\n",
    "        n.addConstr(u[i] - u[j] + y[i][j] >= 0)\n",
    "        n.addConstr(y[i][j] >= 0)\n",
    "n.addConstr(-u['S'] + u['T'] == 1)"
   ]
  },
  {
   "cell_type": "code",
   "execution_count": 636,
   "metadata": {},
   "outputs": [],
   "source": [
    "for i in y:\n",
    "    for j in y[i]:\n",
    "        sum = c[i][j]*y[i][j]\n",
    "n.setObjective(sum,GRB.MINIMIZE)"
   ]
  },
  {
   "cell_type": "code",
   "execution_count": 637,
   "metadata": {},
   "outputs": [
    {
     "name": "stdout",
     "output_type": "stream",
     "text": [
      "Gurobi Optimizer version 11.0.0 build v11.0.0rc2 (win64 - Windows 11+.0 (22631.2))\n",
      "\n",
      "CPU model: AMD Ryzen 7 5800H with Radeon Graphics, instruction set [SSE2|AVX|AVX2]\n",
      "Thread count: 8 physical cores, 16 logical processors, using up to 16 threads\n",
      "\n",
      "Optimize a model with 47 rows, 35 columns and 94 nonzeros\n",
      "Model fingerprint: 0x8d487fef\n",
      "Coefficient statistics:\n",
      "  Matrix range     [1e+00, 1e+00]\n",
      "  Objective range  [6e+00, 6e+00]\n",
      "  Bounds range     [0e+00, 0e+00]\n",
      "  RHS range        [1e+00, 1e+00]\n",
      "Presolve removed 47 rows and 35 columns\n",
      "Presolve time: 0.00s\n",
      "Presolve: All rows and columns removed\n",
      "Iteration    Objective       Primal Inf.    Dual Inf.      Time\n",
      "       0    0.0000000e+00   0.000000e+00   0.000000e+00      0s\n",
      "\n",
      "Solved in 0 iterations and 0.00 seconds (0.00 work units)\n",
      "Optimal objective  0.000000000e+00\n"
     ]
    }
   ],
   "source": [
    "n.optimize()"
   ]
  },
  {
   "cell_type": "code",
   "execution_count": 638,
   "metadata": {},
   "outputs": [
    {
     "data": {
      "text/plain": [
       "0.0"
      ]
     },
     "execution_count": 638,
     "metadata": {},
     "output_type": "execute_result"
    }
   ],
   "source": [
    "n.ObjVal"
   ]
  },
  {
   "cell_type": "code",
   "execution_count": 639,
   "metadata": {},
   "outputs": [
    {
     "data": {
      "text/plain": [
       "<gurobi.Var uT (value 1.0)>"
      ]
     },
     "execution_count": 639,
     "metadata": {},
     "output_type": "execute_result"
    }
   ],
   "source": [
    "u['T']"
   ]
  },
  {
   "cell_type": "code",
   "execution_count": 640,
   "metadata": {},
   "outputs": [
    {
     "data": {
      "text/plain": [
       "<gurobi.Var uS (value 0.0)>"
      ]
     },
     "execution_count": 640,
     "metadata": {},
     "output_type": "execute_result"
    }
   ],
   "source": [
    "u['S']"
   ]
  },
  {
   "cell_type": "code",
   "execution_count": null,
   "metadata": {},
   "outputs": [],
   "source": []
  },
  {
   "cell_type": "code",
   "execution_count": null,
   "metadata": {},
   "outputs": [],
   "source": []
  }
 ],
 "metadata": {
  "kernelspec": {
   "display_name": "ML_331",
   "language": "python",
   "name": "python3"
  },
  "language_info": {
   "codemirror_mode": {
    "name": "ipython",
    "version": 3
   },
   "file_extension": ".py",
   "mimetype": "text/x-python",
   "name": "python",
   "nbconvert_exporter": "python",
   "pygments_lexer": "ipython3",
   "version": "3.12.0"
  }
 },
 "nbformat": 4,
 "nbformat_minor": 2
}
