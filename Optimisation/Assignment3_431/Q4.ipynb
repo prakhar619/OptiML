{
 "cells": [
  {
   "cell_type": "markdown",
   "metadata": {},
   "source": [
    "### Q4b"
   ]
  },
  {
   "cell_type": "code",
   "execution_count": 30,
   "metadata": {},
   "outputs": [],
   "source": [
    "# import gurobi library\n",
    "from gurobipy import *"
   ]
  },
  {
   "cell_type": "code",
   "execution_count": 31,
   "metadata": {},
   "outputs": [],
   "source": [
    "# candidates and jobs \n",
    "C = ['1', '2', '3']\n",
    "J = ['4', '5', '6']"
   ]
  },
  {
   "cell_type": "code",
   "execution_count": 32,
   "metadata": {},
   "outputs": [],
   "source": [
    "graph = {\n",
    "    ('1', '4'): 2,\n",
    "    ('2', '4'): 3,\n",
    "    ('2', '6'): 2,\n",
    "    ('3', '4'): 1,\n",
    "    ('3', '5'): 1\n",
    "}"
   ]
  },
  {
   "cell_type": "code",
   "execution_count": 49,
   "metadata": {},
   "outputs": [],
   "source": [
    "m = Model()\n",
    "x = m.addVars(graph, name=\"x\")\n",
    "xs = []\n",
    "for i in graph:\n",
    "    xs.append(m.addConstr(x[i] >= 0))\n",
    "cds = []\n",
    "jbs = []\n",
    "for i in range(len(C)):\n",
    "    cds.append(m.addConstr(x.sum(C[i], '*') <= 1,'candidates'))\n",
    "    jbs.append(m.addConstr(x.sum('*',J[i]) <= 1 ,'jobs'))"
   ]
  },
  {
   "cell_type": "code",
   "execution_count": 50,
   "metadata": {},
   "outputs": [
    {
     "name": "stdout",
     "output_type": "stream",
     "text": [
      "Gurobi Optimizer version 11.0.1 build v11.0.1rc0 (win64 - Windows 11.0 (22631.2))\n",
      "\n",
      "CPU model: AMD Ryzen 7 5800H with Radeon Graphics, instruction set [SSE2|AVX|AVX2]\n",
      "Thread count: 8 physical cores, 16 logical processors, using up to 16 threads\n",
      "\n",
      "Optimize a model with 11 rows, 5 columns and 15 nonzeros\n",
      "Model fingerprint: 0xd7ab0836\n",
      "Coefficient statistics:\n",
      "  Matrix range     [1e+00, 1e+00]\n",
      "  Objective range  [1e+00, 3e+00]\n",
      "  Bounds range     [0e+00, 0e+00]\n",
      "  RHS range        [1e+00, 1e+00]\n",
      "Presolve removed 11 rows and 5 columns\n",
      "Presolve time: 0.00s\n",
      "Presolve: All rows and columns removed\n",
      "Iteration    Objective       Primal Inf.    Dual Inf.      Time\n",
      "       0    5.0000000e+00   0.000000e+00   4.000000e+00      0s\n",
      "Extra simplex iterations after uncrush: 2\n",
      "       2    5.0000000e+00   0.000000e+00   0.000000e+00      0s\n",
      "\n",
      "Solved in 2 iterations and 0.01 seconds (0.00 work units)\n",
      "Optimal objective  5.000000000e+00\n"
     ]
    }
   ],
   "source": [
    "#maximize total profit\n",
    "m.setObjective(x.prod(graph), GRB.MAXIMIZE)\n",
    "m.optimize()"
   ]
  },
  {
   "cell_type": "code",
   "execution_count": 57,
   "metadata": {},
   "outputs": [
    {
     "name": "stdout",
     "output_type": "stream",
     "text": [
      "Assign job 4 to candidate 1\n",
      "Assign job 6 to candidate 2\n",
      "Assign job 5 to candidate 3\n",
      "Maximum Profit: 5.0\n"
     ]
    }
   ],
   "source": [
    "for var in m.getVars():\n",
    "    if abs(var.x) > 1e-2:\n",
    "        print(\"Assign job\",var.varName[4],\"to candidate\",var.varName[2])\n",
    "print(\"Maximum Profit:\",m.objVal)"
   ]
  },
  {
   "cell_type": "markdown",
   "metadata": {},
   "source": [
    "### Q4c"
   ]
  },
  {
   "cell_type": "code",
   "execution_count": 69,
   "metadata": {},
   "outputs": [],
   "source": [
    "X = ['1', '2', '3']\n",
    "Y = ['4', '5', '6']"
   ]
  },
  {
   "cell_type": "code",
   "execution_count": 70,
   "metadata": {},
   "outputs": [],
   "source": [
    "m = Model()\n",
    "x = m.addVars(X, name=\"x\")\n",
    "y = m.addVars(Y, name=\"y\")"
   ]
  },
  {
   "cell_type": "code",
   "execution_count": 71,
   "metadata": {},
   "outputs": [],
   "source": [
    "x_cons = []\n",
    "y_cons = []\n",
    "for i in range(len(X)):\n",
    "    x_cons.append(m.addConstr(x[X[i]] >= 0, 'x_cons'))\n",
    "    y_cons.append(m.addConstr(y[Y[i]] >= 0, 'y_cons'))\n",
    "for i in graph:\n",
    "    m.addConstr(x[str(i[0])] + y[str(i[1])] >= graph[i])"
   ]
  },
  {
   "cell_type": "code",
   "execution_count": 72,
   "metadata": {},
   "outputs": [
    {
     "name": "stdout",
     "output_type": "stream",
     "text": [
      "Gurobi Optimizer version 11.0.1 build v11.0.1rc0 (win64 - Windows 11.0 (22631.2))\n",
      "\n",
      "CPU model: AMD Ryzen 7 5800H with Radeon Graphics, instruction set [SSE2|AVX|AVX2]\n",
      "Thread count: 8 physical cores, 16 logical processors, using up to 16 threads\n",
      "\n",
      "Optimize a model with 11 rows, 6 columns and 16 nonzeros\n",
      "Model fingerprint: 0xb1c1f814\n",
      "Coefficient statistics:\n",
      "  Matrix range     [1e+00, 1e+00]\n",
      "  Objective range  [1e+00, 1e+00]\n",
      "  Bounds range     [0e+00, 0e+00]\n",
      "  RHS range        [1e+00, 3e+00]\n",
      "Presolve removed 6 rows and 0 columns\n",
      "Presolve time: 0.00s\n",
      "Presolved: 5 rows, 6 columns, 10 nonzeros\n",
      "\n",
      "Iteration    Objective       Primal Inf.    Dual Inf.      Time\n",
      "       0    0.0000000e+00   9.000000e+00   0.000000e+00      0s\n",
      "       4    5.0000000e+00   0.000000e+00   0.000000e+00      0s\n",
      "\n",
      "Solved in 4 iterations and 0.01 seconds (0.00 work units)\n",
      "Optimal objective  5.000000000e+00\n"
     ]
    }
   ],
   "source": [
    "m.setObjective((x.sum('*') + y.sum('*')), GRB.MINIMIZE)\n",
    "m.optimize()"
   ]
  },
  {
   "cell_type": "code",
   "execution_count": 74,
   "metadata": {},
   "outputs": [
    {
     "name": "stdout",
     "output_type": "stream",
     "text": [
      "u[1] = 0.0\n",
      "u[2] = 2.0\n",
      "u[3] = 0.0\n",
      "v[4] = 2.0\n",
      "v[5] = 1.0\n",
      "v[6] = 0.0\n",
      "Min Val: 5.0\n"
     ]
    }
   ],
   "source": [
    "for var in m.getVars():\n",
    "    print(var.varName,\"=\",var.x)\n",
    "print('Min Val:',m.objVal)"
   ]
  },
  {
   "cell_type": "code",
   "execution_count": null,
   "metadata": {},
   "outputs": [],
   "source": [
    "#Both LP primal and LP Dual gives the same optimal value. Therefore Strong duality holds"
   ]
  }
 ],
 "metadata": {
  "kernelspec": {
   "display_name": "Python 3",
   "language": "python",
   "name": "python3"
  },
  "language_info": {
   "codemirror_mode": {
    "name": "ipython",
    "version": 3
   },
   "file_extension": ".py",
   "mimetype": "text/x-python",
   "name": "python",
   "nbconvert_exporter": "python",
   "pygments_lexer": "ipython3",
   "version": "3.11.8"
  }
 },
 "nbformat": 4,
 "nbformat_minor": 2
}
