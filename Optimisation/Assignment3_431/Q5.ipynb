{
 "cells": [
  {
   "cell_type": "markdown",
   "metadata": {},
   "source": [
    "### Q5b"
   ]
  },
  {
   "cell_type": "code",
   "execution_count": 87,
   "metadata": {},
   "outputs": [],
   "source": [
    "from gurobipy import *"
   ]
  },
  {
   "cell_type": "code",
   "execution_count": 88,
   "metadata": {},
   "outputs": [],
   "source": [
    "m = Model()\n",
    "x1 = m.addVar(ub = 1,name=\"x1\")\n",
    "x2 = m.addVar(ub = 1,name=\"x2\")\n",
    "x3 = m.addVar(ub = 1,name=\"x3\")\n",
    "x4 = m.addVar(ub = 1,name=\"x4\")\n",
    "x5 = m.addVar(ub = 1,name=\"x5\")\n"
   ]
  },
  {
   "cell_type": "code",
   "execution_count": 89,
   "metadata": {},
   "outputs": [
    {
     "data": {
      "text/plain": [
       "<gurobi.Constr *Awaiting Model Update*>"
      ]
     },
     "execution_count": 89,
     "metadata": {},
     "output_type": "execute_result"
    }
   ],
   "source": [
    "m.addConstr(11*x1+ 53*x2 + 5*x3 + 5*x4 + 29*x5 <= 40)\n",
    "m.addConstr(3*x1 + 6*x2 + 5*x3 + 1*x4 + 34*x5 <= 20)"
   ]
  },
  {
   "cell_type": "code",
   "execution_count": 90,
   "metadata": {},
   "outputs": [
    {
     "name": "stdout",
     "output_type": "stream",
     "text": [
      "Gurobi Optimizer version 11.0.1 build v11.0.1rc0 (win64 - Windows 11.0 (22631.2))\n",
      "\n",
      "CPU model: AMD Ryzen 7 5800H with Radeon Graphics, instruction set [SSE2|AVX|AVX2]\n",
      "Thread count: 8 physical cores, 16 logical processors, using up to 16 threads\n",
      "\n",
      "Optimize a model with 2 rows, 5 columns and 10 nonzeros\n",
      "Model fingerprint: 0xa624fb66\n",
      "Coefficient statistics:\n",
      "  Matrix range     [1e+00, 5e+01]\n",
      "  Objective range  [1e+01, 4e+01]\n",
      "  Bounds range     [1e+00, 1e+00]\n",
      "  RHS range        [2e+01, 4e+01]\n",
      "Presolve time: 0.00s\n",
      "Presolved: 2 rows, 5 columns, 10 nonzeros\n",
      "\n",
      "Iteration    Objective       Primal Inf.    Dual Inf.      Time\n",
      "       0    1.2800000e+02   9.500000e+00   0.000000e+00      0s\n",
      "       3    5.7449017e+01   0.000000e+00   0.000000e+00      0s\n",
      "\n",
      "Solved in 3 iterations and 0.01 seconds (0.00 work units)\n",
      "Optimal objective  5.744901720e+01\n"
     ]
    }
   ],
   "source": [
    "m.setObjective((13*x1 + 16*x2 + 16*x3 + 14*x4 + 39*x5), GRB.MAXIMIZE)\n",
    "m.optimize()"
   ]
  },
  {
   "cell_type": "code",
   "execution_count": 91,
   "metadata": {},
   "outputs": [
    {
     "name": "stdout",
     "output_type": "stream",
     "text": [
      "x1 : 1.0\n",
      "x2 : 0.20085995085995087\n",
      "x3 : 1.0\n",
      "x4 : 1.0\n",
      "x5 : 0.2880835380835381\n",
      "Max total at end of 2022: 57.449017199017206\n"
     ]
    }
   ],
   "source": [
    "for var in m.getVars():\n",
    "    print(var.varName,\":\",var.x)\n",
    "print('Max total at end of 2022:',m.objVal)"
   ]
  },
  {
   "cell_type": "markdown",
   "metadata": {},
   "source": [
    "### Q5c"
   ]
  },
  {
   "cell_type": "code",
   "execution_count": 92,
   "metadata": {},
   "outputs": [
    {
     "name": "stdout",
     "output_type": "stream",
     "text": [
      "Dual variable R0: 0.1904176904176904\n",
      "Dual variable R1: 0.9846437346437346\n"
     ]
    }
   ],
   "source": [
    "if m.status == GRB.OPTIMAL:\n",
    "    dual = {}\n",
    "    for constr in m.getConstrs():\n",
    "        dual[constr.ConstrName] = constr.Pi\n",
    "    for constr_name, dual_value in dual.items():\n",
    "        print(f\"Dual variable {constr_name}: {dual_value}\")\n",
    "else:\n",
    "    print(\"Optimization was not successful.\")"
   ]
  },
  {
   "cell_type": "markdown",
   "metadata": {},
   "source": [
    "### Q5d"
   ]
  },
  {
   "cell_type": "code",
   "execution_count": 93,
   "metadata": {},
   "outputs": [],
   "source": [
    "m = Model()\n",
    "y1 = m.addVar(name=\"y1\")\n",
    "y2 = m.addVar(name=\"y2\")\n",
    "y3 = m.addVar(name=\"y3\")\n",
    "y4 = m.addVar(name=\"y4\")\n",
    "y5 = m.addVar(name=\"y5\")\n",
    "y6 = m.addVar(name=\"y6\")\n",
    "y7 = m.addVar(name=\"y7\")"
   ]
  },
  {
   "cell_type": "code",
   "execution_count": 94,
   "metadata": {},
   "outputs": [
    {
     "data": {
      "text/plain": [
       "<gurobi.Constr *Awaiting Model Update*>"
      ]
     },
     "execution_count": 94,
     "metadata": {},
     "output_type": "execute_result"
    }
   ],
   "source": [
    "m.addConstr(11*y1 + 3*y2 + y3 >= 13)\n",
    "m.addConstr(53*y1 + 6*y2 + y4 >= 16)\n",
    "m.addConstr(5*y1 + 5*y2 + y5 >= 16)\n",
    "m.addConstr(5*y1 + y2 + y6 >= 14)\n",
    "m.addConstr(29*y1 + 34*y2 + y7 >= 39)"
   ]
  },
  {
   "cell_type": "code",
   "execution_count": 95,
   "metadata": {},
   "outputs": [
    {
     "name": "stdout",
     "output_type": "stream",
     "text": [
      "Gurobi Optimizer version 11.0.1 build v11.0.1rc0 (win64 - Windows 11.0 (22631.2))\n",
      "\n",
      "CPU model: AMD Ryzen 7 5800H with Radeon Graphics, instruction set [SSE2|AVX|AVX2]\n",
      "Thread count: 8 physical cores, 16 logical processors, using up to 16 threads\n",
      "\n",
      "Optimize a model with 5 rows, 7 columns and 15 nonzeros\n",
      "Model fingerprint: 0x8cc7fbdf\n",
      "Coefficient statistics:\n",
      "  Matrix range     [1e+00, 5e+01]\n",
      "  Objective range  [1e+00, 4e+01]\n",
      "  Bounds range     [0e+00, 0e+00]\n",
      "  RHS range        [1e+01, 4e+01]\n",
      "Presolve removed 0 rows and 2 columns\n",
      "Presolve time: 0.01s\n",
      "Presolved: 5 rows, 5 columns, 13 nonzeros\n",
      "\n",
      "Iteration    Objective       Primal Inf.    Dual Inf.      Time\n",
      "       0    0.0000000e+00   4.012500e+01   0.000000e+00      0s\n",
      "       5    5.7449017e+01   0.000000e+00   0.000000e+00      0s\n",
      "\n",
      "Solved in 5 iterations and 0.01 seconds (0.00 work units)\n",
      "Optimal objective  5.744901720e+01\n"
     ]
    }
   ],
   "source": [
    "m.setObjective(40*y1 + 20*y2 + y3 + y4 + y5 + y6 + y7, GRB.MINIMIZE)\n",
    "m.optimize()"
   ]
  },
  {
   "cell_type": "code",
   "execution_count": 96,
   "metadata": {},
   "outputs": [
    {
     "name": "stdout",
     "output_type": "stream",
     "text": [
      "y1 : 0.1904176904176904\n",
      "y2 : 0.9846437346437348\n",
      "y3 : 7.951474201474201\n",
      "y4 : 0.0\n",
      "y5 : 10.124692874692874\n",
      "y6 : 12.063267813267814\n",
      "y7 : 0.0\n",
      "Optimal Value: 57.4490171990172\n"
     ]
    }
   ],
   "source": [
    "for var in m.getVars():\n",
    "    print(var.varName,\":\",var.x)\n",
    "print('Optimal Value:',m.objVal)\n"
   ]
  },
  {
   "cell_type": "markdown",
   "metadata": {},
   "source": [
    "### Q5 (e)"
   ]
  },
  {
   "cell_type": "code",
   "execution_count": 97,
   "metadata": {},
   "outputs": [
    {
     "name": "stdout",
     "output_type": "stream",
     "text": [
      "Dual variable R0 1.0\n",
      "Dual variable R1 0.20085995085995084\n",
      "Dual variable R2 1.0\n",
      "Dual variable R3 1.0\n",
      "Dual variable R4 0.2880835380835381\n"
     ]
    }
   ],
   "source": [
    "if m.status == GRB.OPTIMAL:\n",
    "    dual= {}\n",
    "    for constr in m.getConstrs():\n",
    "        dual[constr.ConstrName] = constr.Pi\n",
    "    for constr_name, dual_value in dual.items():\n",
    "        print(f\"Dual variable\",constr_name ,dual_value)\n",
    "else:\n",
    "    print(\"Optimization was not successful.\")"
   ]
  }
 ],
 "metadata": {
  "kernelspec": {
   "display_name": "Python 3",
   "language": "python",
   "name": "python3"
  },
  "language_info": {
   "codemirror_mode": {
    "name": "ipython",
    "version": 3
   },
   "file_extension": ".py",
   "mimetype": "text/x-python",
   "name": "python",
   "nbconvert_exporter": "python",
   "pygments_lexer": "ipython3",
   "version": "3.11.8"
  }
 },
 "nbformat": 4,
 "nbformat_minor": 2
}
