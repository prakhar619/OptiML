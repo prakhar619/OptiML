{
 "cells": [
  {
   "cell_type": "code",
   "execution_count": 12,
   "metadata": {},
   "outputs": [],
   "source": [
    "import numpy as np\n",
    "import matplotlib.pyplot as plt"
   ]
  },
  {
   "cell_type": "code",
   "execution_count": 13,
   "metadata": {},
   "outputs": [
    {
     "data": {
      "text/plain": [
       "array([[ 3.6  , 79.   ],\n",
       "       [ 1.8  , 54.   ],\n",
       "       [ 3.333, 74.   ],\n",
       "       [ 2.283, 62.   ],\n",
       "       [ 4.533, 85.   ],\n",
       "       [ 2.883, 55.   ],\n",
       "       [ 4.7  , 88.   ],\n",
       "       [ 3.6  , 85.   ],\n",
       "       [ 1.95 , 51.   ],\n",
       "       [ 4.35 , 85.   ],\n",
       "       [ 1.833, 54.   ],\n",
       "       [ 3.917, 84.   ],\n",
       "       [ 4.2  , 78.   ],\n",
       "       [ 1.75 , 47.   ],\n",
       "       [ 4.7  , 83.   ],\n",
       "       [ 2.167, 52.   ],\n",
       "       [ 1.75 , 62.   ],\n",
       "       [ 4.8  , 84.   ],\n",
       "       [ 1.6  , 52.   ],\n",
       "       [ 4.25 , 79.   ],\n",
       "       [ 1.8  , 51.   ],\n",
       "       [ 1.75 , 47.   ],\n",
       "       [ 3.45 , 78.   ],\n",
       "       [ 3.067, 69.   ],\n",
       "       [ 4.533, 74.   ],\n",
       "       [ 3.6  , 83.   ],\n",
       "       [ 1.967, 55.   ],\n",
       "       [ 4.083, 76.   ],\n",
       "       [ 3.85 , 78.   ],\n",
       "       [ 4.433, 79.   ],\n",
       "       [ 4.3  , 73.   ],\n",
       "       [ 4.467, 77.   ],\n",
       "       [ 3.367, 66.   ],\n",
       "       [ 4.033, 80.   ],\n",
       "       [ 3.833, 74.   ],\n",
       "       [ 2.017, 52.   ],\n",
       "       [ 1.867, 48.   ],\n",
       "       [ 4.833, 80.   ],\n",
       "       [ 1.833, 59.   ],\n",
       "       [ 4.783, 90.   ],\n",
       "       [ 4.35 , 80.   ],\n",
       "       [ 1.883, 58.   ],\n",
       "       [ 4.567, 84.   ],\n",
       "       [ 1.75 , 58.   ],\n",
       "       [ 4.533, 73.   ],\n",
       "       [ 3.317, 83.   ],\n",
       "       [ 3.833, 64.   ],\n",
       "       [ 2.1  , 53.   ],\n",
       "       [ 4.633, 82.   ],\n",
       "       [ 2.   , 59.   ],\n",
       "       [ 4.8  , 75.   ],\n",
       "       [ 4.716, 90.   ],\n",
       "       [ 1.833, 54.   ],\n",
       "       [ 4.833, 80.   ],\n",
       "       [ 1.733, 54.   ],\n",
       "       [ 4.883, 83.   ],\n",
       "       [ 3.717, 71.   ],\n",
       "       [ 1.667, 64.   ],\n",
       "       [ 4.567, 77.   ],\n",
       "       [ 4.317, 81.   ],\n",
       "       [ 2.233, 59.   ],\n",
       "       [ 4.5  , 84.   ],\n",
       "       [ 1.75 , 48.   ],\n",
       "       [ 4.8  , 82.   ],\n",
       "       [ 1.817, 60.   ],\n",
       "       [ 4.4  , 92.   ],\n",
       "       [ 4.167, 78.   ],\n",
       "       [ 4.7  , 78.   ],\n",
       "       [ 2.067, 65.   ],\n",
       "       [ 4.7  , 73.   ],\n",
       "       [ 4.033, 82.   ],\n",
       "       [ 1.967, 56.   ],\n",
       "       [ 4.5  , 79.   ],\n",
       "       [ 4.   , 71.   ],\n",
       "       [ 1.983, 62.   ],\n",
       "       [ 5.067, 76.   ],\n",
       "       [ 2.017, 60.   ],\n",
       "       [ 4.567, 78.   ],\n",
       "       [ 3.883, 76.   ],\n",
       "       [ 3.6  , 83.   ],\n",
       "       [ 4.133, 75.   ],\n",
       "       [ 4.333, 82.   ],\n",
       "       [ 4.1  , 70.   ],\n",
       "       [ 2.633, 65.   ],\n",
       "       [ 4.067, 73.   ],\n",
       "       [ 4.933, 88.   ],\n",
       "       [ 3.95 , 76.   ],\n",
       "       [ 4.517, 80.   ],\n",
       "       [ 2.167, 48.   ],\n",
       "       [ 4.   , 86.   ],\n",
       "       [ 2.2  , 60.   ],\n",
       "       [ 4.333, 90.   ],\n",
       "       [ 1.867, 50.   ],\n",
       "       [ 4.817, 78.   ],\n",
       "       [ 1.833, 63.   ],\n",
       "       [ 4.3  , 72.   ],\n",
       "       [ 4.667, 84.   ],\n",
       "       [ 3.75 , 75.   ],\n",
       "       [ 1.867, 51.   ],\n",
       "       [ 4.9  , 82.   ],\n",
       "       [ 2.483, 62.   ],\n",
       "       [ 4.367, 88.   ],\n",
       "       [ 2.1  , 49.   ],\n",
       "       [ 4.5  , 83.   ],\n",
       "       [ 4.05 , 81.   ],\n",
       "       [ 1.867, 47.   ],\n",
       "       [ 4.7  , 84.   ],\n",
       "       [ 1.783, 52.   ],\n",
       "       [ 4.85 , 86.   ],\n",
       "       [ 3.683, 81.   ],\n",
       "       [ 4.733, 75.   ],\n",
       "       [ 2.3  , 59.   ],\n",
       "       [ 4.9  , 89.   ],\n",
       "       [ 4.417, 79.   ],\n",
       "       [ 1.7  , 59.   ],\n",
       "       [ 4.633, 81.   ],\n",
       "       [ 2.317, 50.   ],\n",
       "       [ 4.6  , 85.   ],\n",
       "       [ 1.817, 59.   ],\n",
       "       [ 4.417, 87.   ],\n",
       "       [ 2.617, 53.   ],\n",
       "       [ 4.067, 69.   ],\n",
       "       [ 4.25 , 77.   ],\n",
       "       [ 1.967, 56.   ],\n",
       "       [ 4.6  , 88.   ],\n",
       "       [ 3.767, 81.   ],\n",
       "       [ 1.917, 45.   ],\n",
       "       [ 4.5  , 82.   ],\n",
       "       [ 2.267, 55.   ],\n",
       "       [ 4.65 , 90.   ],\n",
       "       [ 1.867, 45.   ],\n",
       "       [ 4.167, 83.   ],\n",
       "       [ 2.8  , 56.   ],\n",
       "       [ 4.333, 89.   ],\n",
       "       [ 1.833, 46.   ],\n",
       "       [ 4.383, 82.   ],\n",
       "       [ 1.883, 51.   ],\n",
       "       [ 4.933, 86.   ],\n",
       "       [ 2.033, 53.   ],\n",
       "       [ 3.733, 79.   ],\n",
       "       [ 4.233, 81.   ],\n",
       "       [ 2.233, 60.   ],\n",
       "       [ 4.533, 82.   ],\n",
       "       [ 4.817, 77.   ],\n",
       "       [ 4.333, 76.   ],\n",
       "       [ 1.983, 59.   ],\n",
       "       [ 4.633, 80.   ],\n",
       "       [ 2.017, 49.   ],\n",
       "       [ 5.1  , 96.   ],\n",
       "       [ 1.8  , 53.   ],\n",
       "       [ 5.033, 77.   ],\n",
       "       [ 4.   , 77.   ],\n",
       "       [ 2.4  , 65.   ],\n",
       "       [ 4.6  , 81.   ],\n",
       "       [ 3.567, 71.   ],\n",
       "       [ 4.   , 70.   ],\n",
       "       [ 4.5  , 81.   ],\n",
       "       [ 4.083, 93.   ],\n",
       "       [ 1.8  , 53.   ],\n",
       "       [ 3.967, 89.   ],\n",
       "       [ 2.2  , 45.   ],\n",
       "       [ 4.15 , 86.   ],\n",
       "       [ 2.   , 58.   ],\n",
       "       [ 3.833, 78.   ],\n",
       "       [ 3.5  , 66.   ],\n",
       "       [ 4.583, 76.   ],\n",
       "       [ 2.367, 63.   ],\n",
       "       [ 5.   , 88.   ],\n",
       "       [ 1.933, 52.   ],\n",
       "       [ 4.617, 93.   ],\n",
       "       [ 1.917, 49.   ],\n",
       "       [ 2.083, 57.   ],\n",
       "       [ 4.583, 77.   ],\n",
       "       [ 3.333, 68.   ],\n",
       "       [ 4.167, 81.   ],\n",
       "       [ 4.333, 81.   ],\n",
       "       [ 4.5  , 73.   ],\n",
       "       [ 2.417, 50.   ],\n",
       "       [ 4.   , 85.   ],\n",
       "       [ 4.167, 74.   ],\n",
       "       [ 1.883, 55.   ],\n",
       "       [ 4.583, 77.   ],\n",
       "       [ 4.25 , 83.   ],\n",
       "       [ 3.767, 83.   ],\n",
       "       [ 2.033, 51.   ],\n",
       "       [ 4.433, 78.   ],\n",
       "       [ 4.083, 84.   ],\n",
       "       [ 1.833, 46.   ],\n",
       "       [ 4.417, 83.   ],\n",
       "       [ 2.183, 55.   ],\n",
       "       [ 4.8  , 81.   ],\n",
       "       [ 1.833, 57.   ],\n",
       "       [ 4.8  , 76.   ],\n",
       "       [ 4.1  , 84.   ],\n",
       "       [ 3.966, 77.   ],\n",
       "       [ 4.233, 81.   ],\n",
       "       [ 3.5  , 87.   ],\n",
       "       [ 4.366, 77.   ],\n",
       "       [ 2.25 , 51.   ],\n",
       "       [ 4.667, 78.   ],\n",
       "       [ 2.1  , 60.   ],\n",
       "       [ 4.35 , 82.   ],\n",
       "       [ 4.133, 91.   ],\n",
       "       [ 1.867, 53.   ],\n",
       "       [ 4.6  , 78.   ],\n",
       "       [ 1.783, 46.   ],\n",
       "       [ 4.367, 77.   ],\n",
       "       [ 3.85 , 84.   ],\n",
       "       [ 1.933, 49.   ],\n",
       "       [ 4.5  , 83.   ],\n",
       "       [ 2.383, 71.   ],\n",
       "       [ 4.7  , 80.   ],\n",
       "       [ 1.867, 49.   ],\n",
       "       [ 3.833, 75.   ],\n",
       "       [ 3.417, 64.   ],\n",
       "       [ 4.233, 76.   ],\n",
       "       [ 2.4  , 53.   ],\n",
       "       [ 4.8  , 94.   ],\n",
       "       [ 2.   , 55.   ],\n",
       "       [ 4.15 , 76.   ],\n",
       "       [ 1.867, 50.   ],\n",
       "       [ 4.267, 82.   ],\n",
       "       [ 1.75 , 54.   ],\n",
       "       [ 4.483, 75.   ],\n",
       "       [ 4.   , 78.   ],\n",
       "       [ 4.117, 79.   ],\n",
       "       [ 4.083, 78.   ],\n",
       "       [ 4.267, 78.   ],\n",
       "       [ 3.917, 70.   ],\n",
       "       [ 4.55 , 79.   ],\n",
       "       [ 4.083, 70.   ],\n",
       "       [ 2.417, 54.   ],\n",
       "       [ 4.183, 86.   ],\n",
       "       [ 2.217, 50.   ],\n",
       "       [ 4.45 , 90.   ],\n",
       "       [ 1.883, 54.   ],\n",
       "       [ 1.85 , 54.   ],\n",
       "       [ 4.283, 77.   ],\n",
       "       [ 3.95 , 79.   ],\n",
       "       [ 2.333, 64.   ],\n",
       "       [ 4.15 , 75.   ],\n",
       "       [ 2.35 , 47.   ],\n",
       "       [ 4.933, 86.   ],\n",
       "       [ 2.9  , 63.   ],\n",
       "       [ 4.583, 85.   ],\n",
       "       [ 3.833, 82.   ],\n",
       "       [ 2.083, 57.   ],\n",
       "       [ 4.367, 82.   ],\n",
       "       [ 2.133, 67.   ],\n",
       "       [ 4.35 , 74.   ],\n",
       "       [ 2.2  , 54.   ],\n",
       "       [ 4.45 , 83.   ],\n",
       "       [ 3.567, 73.   ],\n",
       "       [ 4.5  , 73.   ],\n",
       "       [ 4.15 , 88.   ],\n",
       "       [ 3.817, 80.   ],\n",
       "       [ 3.917, 71.   ],\n",
       "       [ 4.45 , 83.   ],\n",
       "       [ 2.   , 56.   ],\n",
       "       [ 4.283, 79.   ],\n",
       "       [ 4.767, 78.   ],\n",
       "       [ 4.533, 84.   ],\n",
       "       [ 1.85 , 58.   ],\n",
       "       [ 4.25 , 83.   ],\n",
       "       [ 1.983, 43.   ],\n",
       "       [ 2.25 , 60.   ],\n",
       "       [ 4.75 , 75.   ],\n",
       "       [ 4.117, 81.   ],\n",
       "       [ 2.15 , 46.   ],\n",
       "       [ 4.417, 90.   ],\n",
       "       [ 1.817, 46.   ],\n",
       "       [ 4.467, 74.   ]])"
      ]
     },
     "execution_count": 13,
     "metadata": {},
     "output_type": "execute_result"
    }
   ],
   "source": [
    "file_path = r\"D:\\GitHub\\ml_331\\faithful.csv\"\n",
    "dataset = np.genfromtxt(file_path, delimiter=',')\n",
    "dataset = dataset[1:,1:]\n",
    "dataset"
   ]
  },
  {
   "cell_type": "code",
   "execution_count": 14,
   "metadata": {},
   "outputs": [],
   "source": [
    "#Hyperparameter\n",
    "k = 2"
   ]
  },
  {
   "cell_type": "code",
   "execution_count": 15,
   "metadata": {},
   "outputs": [],
   "source": [
    "def group(dataset,centroid):\n",
    "    label = []\n",
    "    for sample in dataset:\n",
    "        distance = []\n",
    "        for centre in centroid:\n",
    "            dist = np.sum((sample- centre)**2)\n",
    "            distance.append(dist)\n",
    "        min_dist = min(distance)\n",
    "        label.append(distance.index(min_dist))\n",
    "    return np.array(label)"
   ]
  },
  {
   "cell_type": "code",
   "execution_count": 16,
   "metadata": {},
   "outputs": [],
   "source": [
    "def reCentre(dataset,label,k):\n",
    "    centroid = []\n",
    "    for i in range(k):\n",
    "        centre = np.zeros(dataset.shape[1])\n",
    "        count = 0\n",
    "        for sample in range(dataset.shape[0]):\n",
    "            if(label[sample] == i):\n",
    "                centre+= dataset[sample]\n",
    "                count += 1\n",
    "        centre = centre / count\n",
    "        centroid.append(centre)\n",
    "    return np.array(centroid)"
   ]
  },
  {
   "cell_type": "code",
   "execution_count": 17,
   "metadata": {},
   "outputs": [
    {
     "data": {
      "text/plain": [
       "array([[ 3.367, 66.   ],\n",
       "       [ 4.65 , 90.   ]])"
      ]
     },
     "execution_count": 17,
     "metadata": {},
     "output_type": "execute_result"
    }
   ],
   "source": [
    "centroid = []\n",
    "for i in range(k):\n",
    "    r = np.random.randint(dataset.shape[0])\n",
    "    centroid.append(dataset[r])\n",
    "centroid = np.array(centroid)\n",
    "centroid"
   ]
  },
  {
   "cell_type": "code",
   "execution_count": 18,
   "metadata": {},
   "outputs": [],
   "source": [
    "tolerance = 1e-5\n",
    "while(True):\n",
    "    label = group(dataset,centroid)\n",
    "    centroid_old = centroid.copy()\n",
    "    centroid = reCentre(dataset,label,k)\n",
    "    if(np.sum((centroid - centroid_old)** 2) < tolerance):\n",
    "        break"
   ]
  },
  {
   "cell_type": "code",
   "execution_count": 19,
   "metadata": {},
   "outputs": [
    {
     "data": {
      "text/plain": [
       "array([[ 2.09433   , 54.75      ],\n",
       "       [ 4.29793023, 80.28488372]])"
      ]
     },
     "execution_count": 19,
     "metadata": {},
     "output_type": "execute_result"
    }
   ],
   "source": [
    "centroid"
   ]
  },
  {
   "cell_type": "code",
   "execution_count": 20,
   "metadata": {},
   "outputs": [
    {
     "data": {
      "text/plain": [
       "<matplotlib.collections.PathCollection at 0x171de92a450>"
      ]
     },
     "execution_count": 20,
     "metadata": {},
     "output_type": "execute_result"
    },
    {
     "data": {
      "image/png": "[encoded data removed]",
      "text/plain": [
       "<Figure size 640x480 with 1 Axes>"
      ]
     },
     "metadata": {},
     "output_type": "display_data"
    }
   ],
   "source": [
    "plt.scatter(dataset[:,0],dataset[:,1])"
   ]
  },
  {
   "cell_type": "code",
   "execution_count": 21,
   "metadata": {},
   "outputs": [
    {
     "data": {
      "text/plain": [
       "<matplotlib.collections.PathCollection at 0x171de741580>"
      ]
     },
     "execution_count": 21,
     "metadata": {},
     "output_type": "execute_result"
    },
    {
     "data": {
      "image/png": "[encoded data removed]",
      "text/plain": [
       "<Figure size 640x480 with 1 Axes>"
      ]
     },
     "metadata": {},
     "output_type": "display_data"
    }
   ],
   "source": [
    "plt.scatter(dataset[:,0], dataset[:,1], c=label*50, cmap='viridis')\n",
    "plt.scatter(centroid[:,0], centroid[:,1])"
   ]
  },
  {
   "cell_type": "code",
   "execution_count": null,
   "metadata": {},
   "outputs": [],
   "source": []
  }
 ],
 "metadata": {
  "kernelspec": {
   "display_name": "ML_331",
   "language": "python",
   "name": "python3"
  },
  "language_info": {
   "codemirror_mode": {
    "name": "ipython",
    "version": 3
   },
   "file_extension": ".py",
   "mimetype": "text/x-python",
   "name": "python",
   "nbconvert_exporter": "python",
   "pygments_lexer": "ipython3",
   "version": "3.12.0"
  }
 },
 "nbformat": 4,
 "nbformat_minor": 2
}
