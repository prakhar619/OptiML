{
 "cells": [
  {
   "cell_type": "code",
   "execution_count": 6,
   "metadata": {},
   "outputs": [
    {
     "name": "stdout",
     "output_type": "stream",
     "text": [
      "0.1113513327875045 0.796825358222363\n",
      "0.36999995450077827\n"
     ]
    }
   ],
   "source": [
    "#!/usr/bin/env python3\n",
    "# -*- coding: utf-8 -*-\n",
    "\"\"\"\n",
    "Created on Thu Feb 25 23:32:28 2021\n",
    "\n",
    "@author: satya\n",
    "\"\"\"\n",
    "\n",
    "import numpy as np\n",
    "\n",
    "ta = 0.1   # bias of coina\n",
    "tb = 0.8   # BIAS of coinb\n",
    "\n",
    "pi=0.4\n",
    "\n",
    "d = 25\n",
    "n= 100     #total samples\n",
    "\n",
    "\n",
    "z = np.zeros(n) #hidden A =0 B=1\n",
    "x = np.zeros(n) #number of heads\n",
    "for i in range(n):\n",
    "    if np.random.uniform() <pi:\n",
    "        x[i]  = np.random.binomial(d,ta)\n",
    "    else:\n",
    "        x[i]  = np.random.binomial(d,tb)\n",
    "        z[i]=1\n",
    "        \n",
    "## forget zs\n",
    "currAEst = 0.51 #beta or uniform choices are ok  \n",
    "currBEst = 0.534\n",
    "piEst =0.5\n",
    "\n",
    "repeatcount = 1000  # instead of checking for convergence\n",
    "gammaiA = np.zeros(n)\n",
    "gammaiB = np.zeros(n)\n",
    "for i in range(repeatcount):\n",
    "    ## EStep starts\n",
    "    for j in range(n):\n",
    "        gammaiA[j] = piEst* np.power(currAEst,x[j]) *np.power(1-currAEst,d-x[j]) \n",
    "        gammaiA[j] /= (piEst*np.power(currAEst,x[j]) *np.power(1-currAEst,d-x[j]) + (1-piEst)* np.power(currBEst,x[j]) *np.power(1-currBEst,d-x[j]) )\n",
    "        gammaiB[j] = 1 - gammaiA[j]\n",
    "    numA = denA = numB = denB = 0\n",
    "    #Estep ends\n",
    "    \n",
    "    #MStep starts\n",
    "    for k in range(n):       \n",
    "        numA += gammaiA[k]*x[k]\n",
    "        numB += gammaiB[k]*x[k]\n",
    "        denA += gammaiA[k]*d\n",
    "        denB += gammaiB[k]*d\n",
    "    currAEst = numA/denA\n",
    "    currBEst = numB/denB\n",
    "    piEst = sum(gammaiA)/n\n",
    "    #Msteps ends\n",
    "\n",
    "print(currAEst,currBEst)\n",
    "print(piEst)"
   ]
  },
  {
   "cell_type": "code",
   "execution_count": 7,
   "metadata": {},
   "outputs": [],
   "source": [
    "#classifier:\n",
    "import math\n",
    "Estz = np.zeros(x.shape[0])\n",
    "c = 0\n",
    "int_x = x.astype(int)\n",
    "for i in int_x:\n",
    "    gammaA_i = piEst * math.comb(d,i) * currAEst**(i) * (1-currAEst)**(d-i)\n",
    "    gammaB_i = (1-piEst) * math.comb(d,i) * currBEst**(i) * (1-currBEst)**(d-i)\n",
    "    if(gammaA_i > gammaB_i):\n",
    "        Estz[c] = 0\n",
    "    else:\n",
    "        Estz[c] = 1\n",
    "    c += 1"
   ]
  },
  {
   "cell_type": "code",
   "execution_count": 8,
   "metadata": {},
   "outputs": [
    {
     "name": "stdout",
     "output_type": "stream",
     "text": [
      "0.0\n"
     ]
    }
   ],
   "source": [
    "error_inSample = sum((1/z.shape[0])*(z - Estz)**2)\n",
    "print(error_inSample)"
   ]
  },
  {
   "cell_type": "code",
   "execution_count": null,
   "metadata": {},
   "outputs": [],
   "source": []
  }
 ],
 "metadata": {
  "kernelspec": {
   "display_name": "ML_331",
   "language": "python",
   "name": "python3"
  },
  "language_info": {
   "codemirror_mode": {
    "name": "ipython",
    "version": 3
   },
   "file_extension": ".py",
   "mimetype": "text/x-python",
   "name": "python",
   "nbconvert_exporter": "python",
   "pygments_lexer": "ipython3",
   "version": "3.12.0"
  }
 },
 "nbformat": 4,
 "nbformat_minor": 2
}
