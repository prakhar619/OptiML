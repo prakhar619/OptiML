{
 "cells": [
  {
   "cell_type": "markdown",
   "metadata": {},
   "source": [
    "### Linear Regression"
   ]
  },
  {
   "cell_type": "code",
   "execution_count": 1,
   "metadata": {},
   "outputs": [],
   "source": [
    "import numpy as np"
   ]
  },
  {
   "cell_type": "code",
   "execution_count": 2,
   "metadata": {},
   "outputs": [],
   "source": [
    "#Parameters\n",
    "inputDim = 3\n",
    "inputCount = 100\n",
    "alpha = 0.01"
   ]
  },
  {
   "cell_type": "code",
   "execution_count": 3,
   "metadata": {},
   "outputs": [],
   "source": [
    "#x is dataset\n",
    "x = np.random.rand(inputCount,inputDim)"
   ]
  },
  {
   "cell_type": "code",
   "execution_count": 4,
   "metadata": {},
   "outputs": [
    {
     "data": {
      "text/plain": [
       "array([0.36095492, 0.29035001, 0.24341856])"
      ]
     },
     "execution_count": 4,
     "metadata": {},
     "output_type": "execute_result"
    }
   ],
   "source": [
    "#w is weight vector\n",
    "w = np.random.rand((inputDim))\n",
    "w"
   ]
  },
  {
   "cell_type": "code",
   "execution_count": 5,
   "metadata": {},
   "outputs": [],
   "source": [
    "# b is bias\n",
    "b = np.random.rand()"
   ]
  },
  {
   "cell_type": "code",
   "execution_count": 6,
   "metadata": {},
   "outputs": [],
   "source": [
    "# y is the label\n",
    "y_ = np.random.rand(inputCount)"
   ]
  },
  {
   "cell_type": "code",
   "execution_count": 7,
   "metadata": {},
   "outputs": [
    {
     "data": {
      "text/plain": [
       "array([0.36095492, 0.29035001, 0.24341856, 0.95691796])"
      ]
     },
     "execution_count": 7,
     "metadata": {},
     "output_type": "execute_result"
    }
   ],
   "source": [
    "# adjust b in w itself \n",
    "w_new = np.hstack((w, b))\n",
    "# adjust x with extra [1..1] column for x_n * b = b\n",
    "ones_row =  np.ones(x.shape[0])\n",
    "x_new = np.hstack((x, ones_row.reshape(-1,1)))\n",
    "\n",
    "w_new"
   ]
  },
  {
   "cell_type": "code",
   "execution_count": 8,
   "metadata": {},
   "outputs": [
    {
     "data": {
      "text/plain": [
       "array([1.41812384, 1.69065757, 1.48400842, 1.60875523, 1.34488728,\n",
       "       1.22678022, 1.49040512, 1.2382097 , 1.5998947 , 1.42246035,\n",
       "       1.5874279 , 1.51815463, 1.26226985, 1.39318358, 1.34113991,\n",
       "       1.56690214, 1.24523323, 1.32186662, 1.59909427, 1.29096415,\n",
       "       1.31918583, 1.40657014, 1.3541086 , 1.44483008, 1.18714402,\n",
       "       1.53732406, 1.32478344, 1.51540567, 1.4584899 , 1.1920003 ,\n",
       "       1.52329535, 1.40724058, 1.34517721, 1.41985626, 1.5084475 ,\n",
       "       1.275092  , 1.17441098, 1.46716817, 1.29303132, 1.2351727 ,\n",
       "       1.52680877, 1.35105683, 1.35133042, 1.26638194, 1.46086135,\n",
       "       1.15212455, 1.46666528, 1.56590813, 1.51119923, 1.48754019,\n",
       "       1.29964968, 1.24331568, 1.06601802, 1.20536505, 1.39928113,\n",
       "       1.54388553, 1.13618079, 1.51659569, 1.57317203, 1.47568377,\n",
       "       1.35370934, 1.33818799, 1.27652586, 1.44179518, 1.34838364,\n",
       "       1.4853702 , 1.34240918, 1.17079367, 1.36427988, 1.47283687,\n",
       "       1.27364828, 1.70213444, 1.41192813, 1.40642747, 1.4537531 ,\n",
       "       1.40878905, 1.32875154, 1.27258831, 1.46449525, 1.12443238,\n",
       "       1.38998323, 1.12010229, 1.30412346, 1.48679653, 1.31545871,\n",
       "       1.36768359, 1.59078452, 1.18737589, 1.54510716, 1.09170259,\n",
       "       1.42003514, 1.49752013, 1.05529176, 1.25837118, 1.16160135,\n",
       "       1.60101043, 1.27453841, 1.32133798, 1.2411815 , 1.48008501])"
      ]
     },
     "execution_count": 8,
     "metadata": {},
     "output_type": "execute_result"
    }
   ],
   "source": [
    "#Forward Propogation\n",
    "y_hat = x_new@w_new\n",
    "y_hat"
   ]
  },
  {
   "cell_type": "code",
   "execution_count": 9,
   "metadata": {},
   "outputs": [],
   "source": [
    "def MSE(w,x = x_new,y = y_):\n",
    "    y_hat = x@w\n",
    "    loss = np.sum(np.dot(y-y_hat,(y-y_hat).T))\n",
    "    return loss"
   ]
  },
  {
   "cell_type": "code",
   "execution_count": 10,
   "metadata": {},
   "outputs": [],
   "source": [
    "# w is row/col vector\n",
    "def der(f_Rn_R,w):\n",
    "    diagonal_elements = np.array([1e-6,1e-6,1e-6,1e-6])\n",
    "    diagonal_matrix = np.diag(diagonal_elements) + w                            #SQUARE MATRIX\n",
    "    f_x_h = np.apply_along_axis(f_Rn_R, axis=1, arr=diagonal_matrix)            #ROW MATRIX\n",
    "    f_x = np.apply_along_axis(f_Rn_R, axis=1,arr = np.tile(w,(len(w),1))   )    #ROW MATRIX\n",
    "    delta_w_L = ( f_x_h - f_x ) / diagonal_elements                             #ROW MATRIX\n",
    "    return delta_w_L"
   ]
  },
  {
   "cell_type": "code",
   "execution_count": 11,
   "metadata": {},
   "outputs": [
    {
     "data": {
      "text/plain": [
       "array([ 94.11349991,  78.01024137,  84.73514634, 175.63705686])"
      ]
     },
     "execution_count": 11,
     "metadata": {},
     "output_type": "execute_result"
    }
   ],
   "source": [
    "delta_w_L = der(MSE,w_new)\n",
    "delta_w_L"
   ]
  },
  {
   "cell_type": "code",
   "execution_count": 12,
   "metadata": {},
   "outputs": [
    {
     "data": {
      "text/plain": [
       "array([ 94.11346619,  78.01021378,  84.73511749, 175.63695687])"
      ]
     },
     "execution_count": 12,
     "metadata": {},
     "output_type": "execute_result"
    }
   ],
   "source": [
    "#Second way of getting delta_w_L\n",
    "P = y_hat\n",
    "delta_p_L = 2 * (P - y_)\n",
    "delta_n_L = delta_p_L\n",
    "delta_w_L_alt = x_new.T@delta_n_L\n",
    "delta_w_L_alt"
   ]
  },
  {
   "cell_type": "code",
   "execution_count": 13,
   "metadata": {},
   "outputs": [
    {
     "data": {
      "text/plain": [
       "array([-0.58017975, -0.48975213, -0.60393262, -0.79945161])"
      ]
     },
     "execution_count": 13,
     "metadata": {},
     "output_type": "execute_result"
    }
   ],
   "source": [
    "#Backward Propagation\n",
    "w_new = w_new - alpha*delta_w_L_alt\n",
    "w_new"
   ]
  },
  {
   "cell_type": "code",
   "execution_count": null,
   "metadata": {},
   "outputs": [],
   "source": []
  },
  {
   "cell_type": "code",
   "execution_count": null,
   "metadata": {},
   "outputs": [],
   "source": []
  }
 ],
 "metadata": {
  "kernelspec": {
   "display_name": "ML_331",
   "language": "python",
   "name": "python3"
  },
  "language_info": {
   "codemirror_mode": {
    "name": "ipython",
    "version": 3
   },
   "file_extension": ".py",
   "mimetype": "text/x-python",
   "name": "python",
   "nbconvert_exporter": "python",
   "pygments_lexer": "ipython3",
   "version": "3.12.0"
  }
 },
 "nbformat": 4,
 "nbformat_minor": 2
}
